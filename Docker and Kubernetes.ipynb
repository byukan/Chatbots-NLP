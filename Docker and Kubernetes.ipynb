{
 "cells": [
  {
   "cell_type": "markdown",
   "metadata": {},
   "source": [
    "# Docker and Kubernetes\n",
    "> - This notebook describes the process of using a production-style development workflow to build, test and deploy Docker applications with Kubernetes, a set of notes from https://www.udemy.com/docker-and-kubernetes-the-complete-guide/.\n",
    "- Author: Brant Yukan, b.rant@ucla.edu\n",
    "- Date: 9/13/19"
   ]
  },
  {
   "cell_type": "markdown",
   "metadata": {},
   "source": [
    "## Goal: Use Docker to easily install and run software without troubleshooting setup  or dependencies.\n",
    "- e.g. docker run -it redis\n",
    "- An image is a file with all the dependencies and configurations required to run a program.  Containers are instances of an image."
   ]
  },
  {
   "cell_type": "markdown",
   "metadata": {},
   "source": [
    "### install on mac"
   ]
  },
  {
   "cell_type": "code",
   "execution_count": 5,
   "metadata": {},
   "outputs": [
    {
     "name": "stdout",
     "output_type": "stream",
     "text": [
      "\u001b[33mWarning:\u001b[0m Cask 'docker' is already installed.\r\n",
      "\r\n",
      "To re-install docker, run:\r\n",
      "  \u001b[32mbrew cask reinstall docker\u001b[39m\r\n"
     ]
    }
   ],
   "source": [
    "!brew cask install docker"
   ]
  },
  {
   "cell_type": "code",
   "execution_count": 8,
   "metadata": {},
   "outputs": [
    {
     "name": "stdout",
     "output_type": "stream",
     "text": [
      "Client: Docker Engine - Community\r\n",
      " Version:           19.03.2\r\n",
      " API version:       1.40\r\n",
      " Go version:        go1.12.8\r\n",
      " Git commit:        6a30dfc\r\n",
      " Built:             Thu Aug 29 05:26:49 2019\r\n",
      " OS/Arch:           darwin/amd64\r\n",
      " Experimental:      false\r\n",
      "\r\n",
      "Server: Docker Engine - Community\r\n",
      " Engine:\r\n",
      "  Version:          19.03.2\r\n",
      "  API version:      1.40 (minimum version 1.12)\r\n",
      "  Go version:       go1.12.8\r\n",
      "  Git commit:       6a30dfc\r\n",
      "  Built:            Thu Aug 29 05:32:21 2019\r\n",
      "  OS/Arch:          linux/amd64\r\n",
      "  Experimental:     false\r\n",
      " containerd:\r\n",
      "  Version:          v1.2.6\r\n",
      "  GitCommit:        894b81a4b802e4eb2a91d1ce216b8817763c29fb\r\n",
      " runc:\r\n",
      "  Version:          1.0.0-rc8\r\n",
      "  GitCommit:        425e105d5a03fabd737a126ad93d62a9eeede87f\r\n",
      " docker-init:\r\n",
      "  Version:          0.18.0\r\n",
      "  GitCommit:        fec3683\r\n"
     ]
    }
   ],
   "source": [
    "!docker version"
   ]
  },
  {
   "cell_type": "markdown",
   "metadata": {},
   "source": [
    "### using docker"
   ]
  },
  {
   "cell_type": "code",
   "execution_count": 11,
   "metadata": {},
   "outputs": [
    {
     "name": "stdout",
     "output_type": "stream",
     "text": [
      "\r\n",
      "Hello from Docker!\r\n",
      "This message shows that your installation appears to be working correctly.\r\n",
      "\r\n",
      "To generate this message, Docker took the following steps:\r\n",
      " 1. The Docker client contacted the Docker daemon.\r\n",
      " 2. The Docker daemon pulled the \"hello-world\" image from the Docker Hub.\r\n",
      "    (amd64)\r\n",
      " 3. The Docker daemon created a new container from that image which runs the\r\n",
      "    executable that produces the output you are currently reading.\r\n",
      " 4. The Docker daemon streamed that output to the Docker client, which sent it\r\n",
      "    to your terminal.\r\n",
      "\r\n",
      "To try something more ambitious, you can run an Ubuntu container with:\r\n",
      " $ docker run -it ubuntu bash\r\n",
      "\r\n",
      "Share images, automate workflows, and more with a free Docker ID:\r\n",
      " https://hub.docker.com/\r\n",
      "\r\n",
      "For more examples and ideas, visit:\r\n",
      " https://docs.docker.com/get-started/\r\n",
      "\r\n"
     ]
    }
   ],
   "source": [
    "# start up new container using image with name hello-world\n",
    "# first time, daemon pulls image from docker hub, after that it's saved in image cache\n",
    "!docker run hello-world"
   ]
  },
  {
   "cell_type": "markdown",
   "metadata": {},
   "source": [
    "- A container is a set of processes that have a groupig of resources specifically assigned to it.\n",
    "- An image is a filesystem snapshot and startup command.\n",
    "- When you create an image, your Linux kernel creates a control gorup, isolates a portion of the hard drive, RAM, CPU, and network to a container.  The filesystem snapshot gets placed in that subsection of the hard drive.  The startup command uses namespacing and runs on the isolated set of resources."
   ]
  },
  {
   "cell_type": "markdown",
   "metadata": {},
   "source": [
    "### docker CLI"
   ]
  },
  {
   "cell_type": "code",
   "execution_count": 17,
   "metadata": {},
   "outputs": [
    {
     "name": "stdout",
     "output_type": "stream",
     "text": [
      "hi there\r\n"
     ]
    }
   ],
   "source": [
    "# default command overrride\n",
    "!docker run busybox echo hi there"
   ]
  },
  {
   "cell_type": "code",
   "execution_count": 19,
   "metadata": {},
   "outputs": [
    {
     "name": "stdout",
     "output_type": "stream",
     "text": [
      "bin\r\n",
      "dev\r\n",
      "etc\r\n",
      "home\r\n",
      "proc\r\n",
      "root\r\n",
      "sys\r\n",
      "tmp\r\n",
      "usr\r\n",
      "var\r\n"
     ]
    }
   ],
   "source": [
    "# folders inside the container\n",
    "!docker run busybox ls"
   ]
  },
  {
   "cell_type": "code",
   "execution_count": 21,
   "metadata": {},
   "outputs": [
    {
     "name": "stdout",
     "output_type": "stream",
     "text": [
      "docker: Error response from daemon: OCI runtime create failed: container_linux.go:345: starting container process caused \"exec: \\\"echo\\\": executable file not found in $PATH\": unknown.\r\n",
      "\u001b[31mERRO\u001b[0m[0001] error waiting for container: context canceled \r\n"
     ]
    }
   ],
   "source": [
    "# ls and echo don't exist inside the hello-world filesystem.\n",
    "!docker run hello-world echo hi there"
   ]
  },
  {
   "cell_type": "code",
   "execution_count": 24,
   "metadata": {},
   "outputs": [
    {
     "name": "stdout",
     "output_type": "stream",
     "text": [
      "root:x:0:0:root:/root:/bin/sh\r\n",
      "daemon:x:1:1:daemon:/usr/sbin:/bin/false\r\n",
      "bin:x:2:2:bin:/bin:/bin/false\r\n",
      "sys:x:3:3:sys:/dev:/bin/false\r\n",
      "sync:x:4:100:sync:/bin:/bin/sync\r\n",
      "mail:x:8:8:mail:/var/spool/mail:/bin/false\r\n",
      "www-data:x:33:33:www-data:/var/www:/bin/false\r\n",
      "operator:x:37:37:Operator:/var:/bin/false\r\n",
      "nobody:x:65534:65534:nobody:/home:/bin/false\r\n"
     ]
    }
   ],
   "source": [
    "# linux systems used to store passwords in here, but now it's in shadow which is hidden.\n",
    "!docker run busybox cat /etc/passwd\n",
    "# !docker run busybox cat /etc/shadow"
   ]
  },
  {
   "cell_type": "code",
   "execution_count": 25,
   "metadata": {},
   "outputs": [
    {
     "name": "stdout",
     "output_type": "stream",
     "text": [
      "CONTAINER ID        IMAGE               COMMAND             CREATED             STATUS              PORTS               NAMES\r\n"
     ]
    }
   ],
   "source": [
    "# lists all running containers running on machine\n",
    "!docker ps"
   ]
  },
  {
   "cell_type": "code",
   "execution_count": null,
   "metadata": {},
   "outputs": [],
   "source": []
  }
 ],
 "metadata": {
  "kernelspec": {
   "display_name": "Python 3",
   "language": "python",
   "name": "python3"
  },
  "language_info": {
   "codemirror_mode": {
    "name": "ipython",
    "version": 3
   },
   "file_extension": ".py",
   "mimetype": "text/x-python",
   "name": "python",
   "nbconvert_exporter": "python",
   "pygments_lexer": "ipython3",
   "version": "3.7.1"
  }
 },
 "nbformat": 4,
 "nbformat_minor": 2
}
