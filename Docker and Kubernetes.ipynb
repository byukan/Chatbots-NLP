{
 "cells": [
  {
   "cell_type": "markdown",
   "metadata": {},
   "source": [
    "# Docker and Kubernetes\n",
    "> - This notebook describes the process of using a production-style development workflow to build, test and deploy Docker applications with Kubernetes, a set of notes from https://www.udemy.com/docker-and-kubernetes-the-complete-guide/.\n",
    "- Author: Brant Yukan, b.rant@ucla.edu\n",
    "- Date: 9/13/19"
   ]
  },
  {
   "cell_type": "markdown",
   "metadata": {},
   "source": [
    "## Goal: Use Docker to easily install and run software without troubleshooting setup  or dependencies.\n",
    "- e.g. docker run -it redis\n",
    "- An image is a file with all the dependencies and configurations required to run a program.  Containers are instances of an image."
   ]
  },
  {
   "cell_type": "markdown",
   "metadata": {},
   "source": [
    "### install on mac"
   ]
  },
  {
   "cell_type": "code",
   "execution_count": 5,
   "metadata": {},
   "outputs": [
    {
     "name": "stdout",
     "output_type": "stream",
     "text": [
      "\u001b[33mWarning:\u001b[0m Cask 'docker' is already installed.\r\n",
      "\r\n",
      "To re-install docker, run:\r\n",
      "  \u001b[32mbrew cask reinstall docker\u001b[39m\r\n"
     ]
    }
   ],
   "source": [
    "!brew cask install docker"
   ]
  },
  {
   "cell_type": "code",
   "execution_count": 8,
   "metadata": {},
   "outputs": [
    {
     "name": "stdout",
     "output_type": "stream",
     "text": [
      "Client: Docker Engine - Community\r\n",
      " Version:           19.03.2\r\n",
      " API version:       1.40\r\n",
      " Go version:        go1.12.8\r\n",
      " Git commit:        6a30dfc\r\n",
      " Built:             Thu Aug 29 05:26:49 2019\r\n",
      " OS/Arch:           darwin/amd64\r\n",
      " Experimental:      false\r\n",
      "\r\n",
      "Server: Docker Engine - Community\r\n",
      " Engine:\r\n",
      "  Version:          19.03.2\r\n",
      "  API version:      1.40 (minimum version 1.12)\r\n",
      "  Go version:       go1.12.8\r\n",
      "  Git commit:       6a30dfc\r\n",
      "  Built:            Thu Aug 29 05:32:21 2019\r\n",
      "  OS/Arch:          linux/amd64\r\n",
      "  Experimental:     false\r\n",
      " containerd:\r\n",
      "  Version:          v1.2.6\r\n",
      "  GitCommit:        894b81a4b802e4eb2a91d1ce216b8817763c29fb\r\n",
      " runc:\r\n",
      "  Version:          1.0.0-rc8\r\n",
      "  GitCommit:        425e105d5a03fabd737a126ad93d62a9eeede87f\r\n",
      " docker-init:\r\n",
      "  Version:          0.18.0\r\n",
      "  GitCommit:        fec3683\r\n"
     ]
    }
   ],
   "source": [
    "!docker version"
   ]
  },
  {
   "cell_type": "markdown",
   "metadata": {},
   "source": [
    "### using docker"
   ]
  },
  {
   "cell_type": "code",
   "execution_count": 11,
   "metadata": {},
   "outputs": [
    {
     "name": "stdout",
     "output_type": "stream",
     "text": [
      "\r\n",
      "Hello from Docker!\r\n",
      "This message shows that your installation appears to be working correctly.\r\n",
      "\r\n",
      "To generate this message, Docker took the following steps:\r\n",
      " 1. The Docker client contacted the Docker daemon.\r\n",
      " 2. The Docker daemon pulled the \"hello-world\" image from the Docker Hub.\r\n",
      "    (amd64)\r\n",
      " 3. The Docker daemon created a new container from that image which runs the\r\n",
      "    executable that produces the output you are currently reading.\r\n",
      " 4. The Docker daemon streamed that output to the Docker client, which sent it\r\n",
      "    to your terminal.\r\n",
      "\r\n",
      "To try something more ambitious, you can run an Ubuntu container with:\r\n",
      " $ docker run -it ubuntu bash\r\n",
      "\r\n",
      "Share images, automate workflows, and more with a free Docker ID:\r\n",
      " https://hub.docker.com/\r\n",
      "\r\n",
      "For more examples and ideas, visit:\r\n",
      " https://docs.docker.com/get-started/\r\n",
      "\r\n"
     ]
    }
   ],
   "source": [
    "# start up new container using image with name hello-world\n",
    "# first time, daemon pulls image from docker hub, after that it's saved in image cache\n",
    "!docker run hello-world"
   ]
  },
  {
   "cell_type": "markdown",
   "metadata": {},
   "source": [
    "- A container is a set of processes that have a groupig of resources specifically assigned to it.\n",
    "- An image is a filesystem snapshot and startup command.\n",
    "- When you create an image, your Linux kernel creates a control gorup, isolates a portion of the hard drive, RAM, CPU, and network to a container.  The filesystem snapshot gets placed in that subsection of the hard drive.  The startup command uses namespacing and runs on the isolated set of resources."
   ]
  },
  {
   "cell_type": "markdown",
   "metadata": {},
   "source": [
    "### docker CLI"
   ]
  },
  {
   "cell_type": "code",
   "execution_count": 17,
   "metadata": {},
   "outputs": [
    {
     "name": "stdout",
     "output_type": "stream",
     "text": [
      "hi there\r\n"
     ]
    }
   ],
   "source": [
    "# default command overrride\n",
    "!docker run busybox echo hi there"
   ]
  },
  {
   "cell_type": "code",
   "execution_count": 19,
   "metadata": {},
   "outputs": [
    {
     "name": "stdout",
     "output_type": "stream",
     "text": [
      "bin\r\n",
      "dev\r\n",
      "etc\r\n",
      "home\r\n",
      "proc\r\n",
      "root\r\n",
      "sys\r\n",
      "tmp\r\n",
      "usr\r\n",
      "var\r\n"
     ]
    }
   ],
   "source": [
    "# folders inside the container\n",
    "!docker run busybox ls"
   ]
  },
  {
   "cell_type": "code",
   "execution_count": 21,
   "metadata": {},
   "outputs": [
    {
     "name": "stdout",
     "output_type": "stream",
     "text": [
      "docker: Error response from daemon: OCI runtime create failed: container_linux.go:345: starting container process caused \"exec: \\\"echo\\\": executable file not found in $PATH\": unknown.\r\n",
      "\u001b[31mERRO\u001b[0m[0001] error waiting for container: context canceled \r\n"
     ]
    }
   ],
   "source": [
    "# ls and echo don't exist inside the hello-world filesystem.\n",
    "!docker run hello-world echo hi there"
   ]
  },
  {
   "cell_type": "code",
   "execution_count": 24,
   "metadata": {
    "scrolled": true
   },
   "outputs": [
    {
     "name": "stdout",
     "output_type": "stream",
     "text": [
      "root:x:0:0:root:/root:/bin/sh\r\n",
      "daemon:x:1:1:daemon:/usr/sbin:/bin/false\r\n",
      "bin:x:2:2:bin:/bin:/bin/false\r\n",
      "sys:x:3:3:sys:/dev:/bin/false\r\n",
      "sync:x:4:100:sync:/bin:/bin/sync\r\n",
      "mail:x:8:8:mail:/var/spool/mail:/bin/false\r\n",
      "www-data:x:33:33:www-data:/var/www:/bin/false\r\n",
      "operator:x:37:37:Operator:/var:/bin/false\r\n",
      "nobody:x:65534:65534:nobody:/home:/bin/false\r\n"
     ]
    }
   ],
   "source": [
    "# linux systems used to store passwords in here, but now it's in shadow which is hidden.\n",
    "!docker run busybox cat /etc/passwd\n",
    "# !docker run busybox cat /etc/shadow"
   ]
  },
  {
   "cell_type": "code",
   "execution_count": 3,
   "metadata": {
    "scrolled": false
   },
   "outputs": [
    {
     "name": "stdout",
     "output_type": "stream",
     "text": [
      "CONTAINER ID        IMAGE               COMMAND             CREATED             STATUS              PORTS               NAMES\r\n"
     ]
    }
   ],
   "source": [
    "# lists all running containers running on machine\n",
    "# !docker run busybox ping google.com\n",
    "!docker ps\n",
    "!docker ps --all  # all containers that we've ever started up on the machine"
   ]
  },
  {
   "cell_type": "markdown",
   "metadata": {},
   "source": [
    "- docker run creates and starts an image"
   ]
  },
  {
   "cell_type": "code",
   "execution_count": 21,
   "metadata": {
    "scrolled": true
   },
   "outputs": [
    {
     "name": "stdout",
     "output_type": "stream",
     "text": [
      "758d268415b3d06b98486971a18851856b2a7d51d8a69f55a12b67b43022fb02\r\n"
     ]
    }
   ],
   "source": [
    "!docker create hello-world\n",
    "# !docker create busybox echo hi there"
   ]
  },
  {
   "cell_type": "code",
   "execution_count": 22,
   "metadata": {},
   "outputs": [
    {
     "name": "stdout",
     "output_type": "stream",
     "text": [
      "\r\n",
      "Hello from Docker!\r\n",
      "This message shows that your installation appears to be working correctly.\r\n",
      "\r\n",
      "To generate this message, Docker took the following steps:\r\n",
      " 1. The Docker client contacted the Docker daemon.\r\n",
      " 2. The Docker daemon pulled the \"hello-world\" image from the Docker Hub.\r\n",
      "    (amd64)\r\n",
      " 3. The Docker daemon created a new container from that image which runs the\r\n",
      "    executable that produces the output you are currently reading.\r\n",
      " 4. The Docker daemon streamed that output to the Docker client, which sent it\r\n",
      "    to your terminal.\r\n",
      "\r\n",
      "To try something more ambitious, you can run an Ubuntu container with:\r\n",
      " $ docker run -it ubuntu bash\r\n",
      "\r\n",
      "Share images, automate workflows, and more with a free Docker ID:\r\n",
      " https://hub.docker.com/\r\n",
      "\r\n",
      "For more examples and ideas, visit:\r\n",
      " https://docs.docker.com/get-started/\r\n",
      "\r\n"
     ]
    }
   ],
   "source": [
    "# -a attaches to the the container, and prints out output\n",
    "!docker start -a 758d268415b3d06b98486971a18851856b2a7d51d8a69f55a12b67b43022fb02"
   ]
  },
  {
   "cell_type": "markdown",
   "metadata": {},
   "source": [
    "- start a container again that has exited"
   ]
  },
  {
   "cell_type": "code",
   "execution_count": 11,
   "metadata": {},
   "outputs": [
    {
     "name": "stdout",
     "output_type": "stream",
     "text": [
      "CONTAINER ID        IMAGE               COMMAND             CREATED             STATUS                      PORTS               NAMES\r\n",
      "de35e291bbf4        hello-world         \"/hello\"            3 minutes ago       Exited (0) 2 minutes ago                        frosty_raman\r\n",
      "db6aa915f408        busybox             \"ping google.com\"   10 minutes ago      Exited (0) 10 minutes ago                       vigorous_tharp\r\n",
      "55d90a513220        busybox             \"cat /etc/passwd\"   18 hours ago        Exited (0) 18 hours ago                         cranky_dirac\r\n",
      "fd72095fd08d        busybox             \"cat /etc/shadow\"   18 hours ago        Exited (0) 18 hours ago                         brave_galileo\r\n",
      "e4e789077ee7        busybox             \"cat /etc/passwd\"   18 hours ago        Exited (0) 18 hours ago                         nice_solomon\r\n",
      "9ff64b236e53        hello-world         \"echo hi there\"     18 hours ago        Created                                         infallible_antonelli\r\n",
      "454cbaa57b0a        hello-world         \"ls\"                18 hours ago        Created                                         magical_burnell\r\n",
      "f920e4544300        busybox             \"ls\"                18 hours ago        Exited (0) 18 hours ago                         pedantic_northcutt\r\n",
      "688feb761a84        busybox             \"ls\"                18 hours ago        Exited (0) 18 hours ago                         condescending_agnesi\r\n",
      "68e42d6ce2ea        busybox             \"echo hi there\"     18 hours ago        Exited (0) 18 hours ago                         brave_hypatia\r\n",
      "4a3b9833d964        busybox             \"echo hi there\"     18 hours ago        Exited (0) 18 hours ago                         bold_hellman\r\n",
      "eb32d4ab2d1f        busybox             \"sh\"                18 hours ago        Exited (0) 18 hours ago                         nostalgic_wescoff\r\n",
      "07f1936944ec        hello-world         \"/hello\"            18 hours ago        Exited (0) 18 hours ago                         compassionate_northcutt\r\n",
      "4546544a3b64        hello-world         \"/hello\"            19 hours ago        Exited (0) 19 hours ago                         stupefied_lederberg\r\n",
      "f0963f1fa6a6        hello-world         \"/hello\"            19 hours ago        Exited (0) 19 hours ago                         zen_perlman\r\n"
     ]
    }
   ],
   "source": [
    "!docker ps --all"
   ]
  },
  {
   "cell_type": "code",
   "execution_count": 14,
   "metadata": {},
   "outputs": [
    {
     "name": "stdout",
     "output_type": "stream",
     "text": [
      "hi there\r\n"
     ]
    }
   ],
   "source": [
    "!docker start -a 68e42d6ce2ea\n",
    "# can't replace default command of a container that's already been created"
   ]
  },
  {
   "cell_type": "raw",
   "metadata": {},
   "source": [
    "delete containers taking up disk space\n",
    "docker system prune"
   ]
  },
  {
   "cell_type": "code",
   "execution_count": 26,
   "metadata": {
    "scrolled": true
   },
   "outputs": [
    {
     "name": "stdout",
     "output_type": "stream",
     "text": [
      "340349d7bb40cf1f97029babc21ab86328eff7d6bafea33c2684477661262a0c\r\n"
     ]
    }
   ],
   "source": [
    "!docker create busybox echo hi there"
   ]
  },
  {
   "cell_type": "code",
   "execution_count": 28,
   "metadata": {},
   "outputs": [
    {
     "name": "stdout",
     "output_type": "stream",
     "text": [
      "340349d7bb40cf1f97029babc21ab86328eff7d6bafea33c2684477661262a0c\r\n"
     ]
    }
   ],
   "source": [
    "!docker start 340349d7bb40cf1f97029babc21ab86328eff7d6bafea33c2684477661262a0c"
   ]
  },
  {
   "cell_type": "code",
   "execution_count": 30,
   "metadata": {},
   "outputs": [
    {
     "name": "stdout",
     "output_type": "stream",
     "text": [
      "hi there\r\n"
     ]
    }
   ],
   "source": [
    "# docker logs does not re-run.  It gets a record of all the logs that have been emitted from that container.\n",
    "!docker logs 340349d7bb40cf1f97029babc21ab86328eff7d6bafea33c2684477661262a0c"
   ]
  },
  {
   "cell_type": "markdown",
   "metadata": {},
   "source": [
    "#### stop running container, ^C or stop/kill\n",
    "- stop sends a SIGTERM hardware signal message to stop at its own time; docker automatically kills after 10 seconds\n",
    "- kill issues a SIGKILL, shut down right now"
   ]
  },
  {
   "cell_type": "code",
   "execution_count": 34,
   "metadata": {},
   "outputs": [
    {
     "name": "stdout",
     "output_type": "stream",
     "text": [
      "fc88cc251959bf95dea640b82c954423f2f8b60e30cd4bcc2173433e33d485db\r\n"
     ]
    }
   ],
   "source": [
    "!docker create busybox ping google.com"
   ]
  },
  {
   "cell_type": "code",
   "execution_count": 7,
   "metadata": {},
   "outputs": [
    {
     "name": "stdout",
     "output_type": "stream",
     "text": [
      "fc88cc251959bf95dea640b82c954423f2f8b60e30cd4bcc2173433e33d485db\n",
      "PING google.com (172.217.5.110): 56 data bytes\n",
      "64 bytes from 172.217.5.110: seq=0 ttl=37 time=6.307 ms\n",
      "64 bytes from 172.217.5.110: seq=1 ttl=37 time=7.011 ms\n",
      "64 bytes from 172.217.5.110: seq=2 ttl=37 time=6.933 ms\n",
      "64 bytes from 172.217.5.110: seq=3 ttl=37 time=7.557 ms\n",
      "64 bytes from 172.217.5.110: seq=4 ttl=37 time=7.397 ms\n",
      "64 bytes from 172.217.5.110: seq=5 ttl=37 time=6.697 ms\n",
      "64 bytes from 172.217.5.110: seq=6 ttl=37 time=7.127 ms\n",
      "64 bytes from 172.217.5.110: seq=7 ttl=37 time=6.863 ms\n",
      "64 bytes from 172.217.5.110: seq=8 ttl=37 time=7.115 ms\n",
      "64 bytes from 172.217.5.110: seq=9 ttl=37 time=6.519 ms\n",
      "64 bytes from 172.217.5.110: seq=10 ttl=37 time=7.725 ms\n",
      "64 bytes from 172.217.5.110: seq=11 ttl=37 time=5.322 ms\n",
      "64 bytes from 172.217.5.110: seq=12 ttl=37 time=7.382 ms\n",
      "64 bytes from 172.217.5.110: seq=13 ttl=37 time=7.951 ms\n",
      "64 bytes from 172.217.5.110: seq=14 ttl=37 time=7.131 ms\n",
      "64 bytes from 172.217.5.110: seq=15 ttl=37 time=7.829 ms\n",
      "64 bytes from 172.217.5.110: seq=16 ttl=37 time=6.667 ms\n",
      "64 bytes from 172.217.5.110: seq=17 ttl=37 time=7.179 ms\n",
      "64 bytes from 172.217.5.110: seq=18 ttl=37 time=7.163 ms\n",
      "64 bytes from 172.217.5.110: seq=19 ttl=37 time=7.048 ms\n",
      "64 bytes from 172.217.5.110: seq=20 ttl=37 time=7.012 ms\n",
      "64 bytes from 172.217.5.110: seq=21 ttl=37 time=6.529 ms\n",
      "64 bytes from 172.217.5.110: seq=22 ttl=37 time=6.650 ms\n",
      "64 bytes from 172.217.5.110: seq=23 ttl=37 time=6.887 ms\n",
      "64 bytes from 172.217.5.110: seq=24 ttl=37 time=7.285 ms\n",
      "64 bytes from 172.217.5.110: seq=25 ttl=37 time=8.468 ms\n",
      "64 bytes from 172.217.5.110: seq=26 ttl=37 time=8.472 ms\n",
      "64 bytes from 172.217.5.110: seq=27 ttl=37 time=6.924 ms\n",
      "64 bytes from 172.217.5.110: seq=28 ttl=37 time=7.291 ms\n",
      "64 bytes from 172.217.5.110: seq=29 ttl=37 time=6.918 ms\n",
      "64 bytes from 172.217.5.110: seq=30 ttl=37 time=7.098 ms\n",
      "64 bytes from 172.217.5.110: seq=31 ttl=37 time=7.203 ms\n",
      "64 bytes from 172.217.5.110: seq=32 ttl=37 time=7.148 ms\n",
      "64 bytes from 172.217.5.110: seq=33 ttl=37 time=6.581 ms\n",
      "64 bytes from 172.217.5.110: seq=34 ttl=37 time=9.204 ms\n",
      "64 bytes from 172.217.5.110: seq=35 ttl=37 time=9.129 ms\n",
      "64 bytes from 172.217.5.110: seq=36 ttl=37 time=6.186 ms\n",
      "64 bytes from 172.217.5.110: seq=37 ttl=37 time=7.117 ms\n",
      "64 bytes from 172.217.5.110: seq=38 ttl=37 time=6.743 ms\n",
      "64 bytes from 172.217.5.110: seq=39 ttl=37 time=8.518 ms\n",
      "64 bytes from 172.217.5.110: seq=40 ttl=37 time=7.670 ms\n",
      "64 bytes from 172.217.5.110: seq=41 ttl=37 time=7.349 ms\n",
      "64 bytes from 172.217.5.110: seq=42 ttl=37 time=7.932 ms\n",
      "64 bytes from 172.217.5.110: seq=43 ttl=37 time=7.105 ms\n",
      "64 bytes from 172.217.5.110: seq=44 ttl=37 time=7.897 ms\n",
      "64 bytes from 172.217.5.110: seq=45 ttl=37 time=7.230 ms\n",
      "64 bytes from 172.217.5.110: seq=46 ttl=37 time=7.586 ms\n",
      "64 bytes from 172.217.5.110: seq=47 ttl=37 time=7.964 ms\n",
      "64 bytes from 172.217.5.110: seq=48 ttl=37 time=6.934 ms\n",
      "64 bytes from 172.217.5.110: seq=49 ttl=37 time=6.976 ms\n",
      "64 bytes from 172.217.5.110: seq=50 ttl=37 time=6.826 ms\n",
      "64 bytes from 172.217.5.110: seq=51 ttl=37 time=7.368 ms\n",
      "64 bytes from 172.217.5.110: seq=52 ttl=37 time=7.480 ms\n",
      "64 bytes from 172.217.5.110: seq=53 ttl=37 time=7.510 ms\n",
      "64 bytes from 172.217.5.110: seq=54 ttl=37 time=6.375 ms\n",
      "64 bytes from 172.217.5.110: seq=55 ttl=37 time=7.223 ms\n",
      "64 bytes from 172.217.5.110: seq=56 ttl=37 time=7.977 ms\n",
      "64 bytes from 172.217.5.110: seq=57 ttl=37 time=7.875 ms\n",
      "64 bytes from 172.217.5.110: seq=58 ttl=37 time=7.387 ms\n",
      "64 bytes from 172.217.5.110: seq=59 ttl=37 time=7.414 ms\n",
      "64 bytes from 172.217.5.110: seq=60 ttl=37 time=8.615 ms\n",
      "64 bytes from 172.217.5.110: seq=61 ttl=37 time=6.562 ms\n",
      "64 bytes from 172.217.5.110: seq=62 ttl=37 time=8.821 ms\n",
      "64 bytes from 172.217.5.110: seq=63 ttl=37 time=6.644 ms\n",
      "64 bytes from 172.217.5.110: seq=64 ttl=37 time=7.414 ms\n",
      "64 bytes from 172.217.5.110: seq=65 ttl=37 time=6.704 ms\n",
      "64 bytes from 172.217.5.110: seq=66 ttl=37 time=8.276 ms\n",
      "64 bytes from 172.217.5.110: seq=67 ttl=37 time=6.909 ms\n",
      "64 bytes from 172.217.5.110: seq=68 ttl=37 time=6.529 ms\n",
      "64 bytes from 172.217.5.110: seq=69 ttl=37 time=6.901 ms\n",
      "64 bytes from 172.217.5.110: seq=70 ttl=37 time=7.616 ms\n",
      "64 bytes from 172.217.5.110: seq=71 ttl=37 time=7.170 ms\n",
      "64 bytes from 172.217.5.110: seq=72 ttl=37 time=7.750 ms\n",
      "64 bytes from 172.217.5.110: seq=73 ttl=37 time=7.537 ms\n",
      "64 bytes from 172.217.5.110: seq=74 ttl=37 time=6.963 ms\n",
      "64 bytes from 172.217.5.110: seq=75 ttl=37 time=6.577 ms\n",
      "64 bytes from 172.217.5.110: seq=76 ttl=37 time=6.991 ms\n",
      "64 bytes from 172.217.5.110: seq=77 ttl=37 time=5.893 ms\n",
      "64 bytes from 172.217.5.110: seq=78 ttl=37 time=7.070 ms\n",
      "64 bytes from 172.217.5.110: seq=79 ttl=37 time=7.316 ms\n",
      "64 bytes from 172.217.5.110: seq=80 ttl=37 time=7.806 ms\n",
      "64 bytes from 172.217.5.110: seq=81 ttl=37 time=7.023 ms\n",
      "64 bytes from 172.217.5.110: seq=82 ttl=37 time=7.929 ms\n",
      "64 bytes from 172.217.5.110: seq=83 ttl=37 time=7.761 ms\n",
      "64 bytes from 172.217.5.110: seq=84 ttl=37 time=7.593 ms\n",
      "64 bytes from 172.217.5.110: seq=85 ttl=37 time=6.707 ms\n",
      "64 bytes from 172.217.5.110: seq=86 ttl=37 time=6.737 ms\n",
      "64 bytes from 172.217.5.110: seq=87 ttl=37 time=6.272 ms\n",
      "64 bytes from 172.217.5.110: seq=88 ttl=37 time=7.599 ms\n",
      "64 bytes from 172.217.5.110: seq=89 ttl=37 time=7.205 ms\n",
      "64 bytes from 172.217.5.110: seq=90 ttl=37 time=6.804 ms\n",
      "64 bytes from 172.217.5.110: seq=91 ttl=37 time=6.972 ms\n",
      "64 bytes from 172.217.5.110: seq=92 ttl=37 time=8.083 ms\n",
      "64 bytes from 172.217.5.110: seq=93 ttl=37 time=7.043 ms\n",
      "64 bytes from 172.217.5.110: seq=94 ttl=37 time=7.293 ms\n",
      "64 bytes from 172.217.5.110: seq=95 ttl=37 time=6.382 ms\n",
      "64 bytes from 172.217.5.110: seq=96 ttl=37 time=6.683 ms\n",
      "64 bytes from 172.217.5.110: seq=97 ttl=37 time=7.976 ms\n",
      "64 bytes from 172.217.5.110: seq=98 ttl=37 time=6.122 ms\n",
      "64 bytes from 172.217.5.110: seq=99 ttl=37 time=8.022 ms\n",
      "64 bytes from 172.217.5.110: seq=100 ttl=37 time=7.161 ms\n",
      "64 bytes from 172.217.5.110: seq=101 ttl=37 time=6.672 ms\n",
      "64 bytes from 172.217.5.110: seq=102 ttl=37 time=6.848 ms\n",
      "64 bytes from 172.217.5.110: seq=103 ttl=37 time=5.850 ms\n",
      "64 bytes from 172.217.5.110: seq=104 ttl=37 time=6.243 ms\n",
      "64 bytes from 172.217.5.110: seq=105 ttl=37 time=6.820 ms\n",
      "64 bytes from 172.217.5.110: seq=106 ttl=37 time=6.374 ms\n",
      "64 bytes from 172.217.5.110: seq=107 ttl=37 time=8.034 ms\n",
      "64 bytes from 172.217.5.110: seq=108 ttl=37 time=5.998 ms\n",
      "64 bytes from 172.217.5.110: seq=109 ttl=37 time=6.761 ms\n",
      "64 bytes from 172.217.5.110: seq=110 ttl=37 time=7.413 ms\n",
      "64 bytes from 172.217.5.110: seq=111 ttl=37 time=6.480 ms\n",
      "64 bytes from 172.217.5.110: seq=112 ttl=37 time=6.521 ms\n",
      "64 bytes from 172.217.5.110: seq=113 ttl=37 time=6.618 ms\n",
      "64 bytes from 172.217.5.110: seq=114 ttl=37 time=6.468 ms\n",
      "64 bytes from 172.217.5.110: seq=115 ttl=37 time=7.234 ms\n",
      "64 bytes from 172.217.5.110: seq=116 ttl=37 time=6.620 ms\n",
      "64 bytes from 172.217.5.110: seq=117 ttl=37 time=6.232 ms\n",
      "64 bytes from 172.217.5.110: seq=118 ttl=37 time=6.554 ms\n",
      "64 bytes from 172.217.5.110: seq=119 ttl=37 time=7.666 ms\n",
      "64 bytes from 172.217.5.110: seq=120 ttl=37 time=8.012 ms\n",
      "64 bytes from 172.217.5.110: seq=121 ttl=37 time=6.012 ms\n",
      "64 bytes from 172.217.5.110: seq=122 ttl=37 time=6.417 ms\n",
      "64 bytes from 172.217.5.110: seq=123 ttl=37 time=6.795 ms\n",
      "64 bytes from 172.217.5.110: seq=124 ttl=37 time=7.008 ms\n",
      "64 bytes from 172.217.5.110: seq=125 ttl=37 time=6.191 ms\n",
      "64 bytes from 172.217.5.110: seq=126 ttl=37 time=6.920 ms\n",
      "64 bytes from 172.217.5.110: seq=127 ttl=37 time=8.181 ms\n",
      "64 bytes from 172.217.5.110: seq=128 ttl=37 time=6.440 ms\n",
      "64 bytes from 172.217.5.110: seq=129 ttl=37 time=8.198 ms\n",
      "64 bytes from 172.217.5.110: seq=130 ttl=37 time=5.836 ms\n",
      "64 bytes from 172.217.5.110: seq=131 ttl=37 time=6.905 ms\n",
      "64 bytes from 172.217.5.110: seq=132 ttl=37 time=6.437 ms\n",
      "64 bytes from 172.217.5.110: seq=133 ttl=37 time=5.091 ms\n",
      "64 bytes from 172.217.5.110: seq=134 ttl=37 time=5.576 ms\n",
      "64 bytes from 172.217.5.110: seq=135 ttl=37 time=6.124 ms\n",
      "64 bytes from 172.217.5.110: seq=136 ttl=37 time=4.946 ms\n",
      "64 bytes from 172.217.5.110: seq=137 ttl=37 time=5.868 ms\n",
      "64 bytes from 172.217.5.110: seq=138 ttl=37 time=7.987 ms\n",
      "64 bytes from 172.217.5.110: seq=139 ttl=37 time=6.070 ms\n",
      "64 bytes from 172.217.5.110: seq=140 ttl=37 time=6.153 ms\n",
      "64 bytes from 172.217.5.110: seq=141 ttl=37 time=5.862 ms\n",
      "64 bytes from 172.217.5.110: seq=142 ttl=37 time=8.090 ms\n",
      "64 bytes from 172.217.5.110: seq=143 ttl=37 time=6.216 ms\n",
      "64 bytes from 172.217.5.110: seq=144 ttl=37 time=12.693 ms\n",
      "64 bytes from 172.217.5.110: seq=145 ttl=37 time=5.557 ms\n",
      "64 bytes from 172.217.5.110: seq=146 ttl=37 time=4.185 ms\n",
      "64 bytes from 172.217.5.110: seq=147 ttl=37 time=6.165 ms\n",
      "64 bytes from 172.217.5.110: seq=148 ttl=37 time=6.070 ms\n",
      "64 bytes from 172.217.5.110: seq=149 ttl=37 time=4.589 ms\n",
      "64 bytes from 172.217.5.110: seq=150 ttl=37 time=6.535 ms\n",
      "64 bytes from 172.217.5.110: seq=151 ttl=37 time=5.894 ms\n",
      "64 bytes from 172.217.5.110: seq=152 ttl=37 time=5.316 ms\n",
      "64 bytes from 172.217.5.110: seq=153 ttl=37 time=7.724 ms\n",
      "64 bytes from 172.217.5.110: seq=154 ttl=37 time=6.029 ms\n",
      "64 bytes from 172.217.5.110: seq=155 ttl=37 time=5.054 ms\n",
      "64 bytes from 172.217.5.110: seq=156 ttl=37 time=5.720 ms\n",
      "64 bytes from 172.217.5.110: seq=157 ttl=37 time=6.865 ms\n",
      "64 bytes from 172.217.5.110: seq=158 ttl=37 time=5.764 ms\n",
      "64 bytes from 172.217.5.110: seq=159 ttl=37 time=5.778 ms\n",
      "64 bytes from 172.217.5.110: seq=160 ttl=37 time=5.865 ms\n",
      "64 bytes from 172.217.5.110: seq=161 ttl=37 time=5.899 ms\n",
      "64 bytes from 172.217.5.110: seq=162 ttl=37 time=5.344 ms\n",
      "64 bytes from 172.217.5.110: seq=163 ttl=37 time=6.166 ms\n",
      "64 bytes from 172.217.5.110: seq=164 ttl=37 time=5.522 ms\n",
      "64 bytes from 172.217.5.110: seq=165 ttl=37 time=5.602 ms\n",
      "64 bytes from 172.217.5.110: seq=166 ttl=37 time=5.855 ms\n",
      "64 bytes from 172.217.5.110: seq=167 ttl=37 time=5.902 ms\n",
      "64 bytes from 172.217.5.110: seq=168 ttl=37 time=5.747 ms\n",
      "64 bytes from 172.217.5.110: seq=169 ttl=37 time=6.732 ms\n",
      "64 bytes from 172.217.5.110: seq=170 ttl=37 time=5.782 ms\n",
      "64 bytes from 172.217.5.110: seq=171 ttl=37 time=6.547 ms\n",
      "64 bytes from 172.217.5.110: seq=172 ttl=37 time=5.559 ms\n",
      "64 bytes from 172.217.5.110: seq=173 ttl=37 time=6.711 ms\n",
      "64 bytes from 172.217.5.110: seq=174 ttl=37 time=4.928 ms\n",
      "64 bytes from 172.217.5.110: seq=175 ttl=37 time=6.048 ms\n",
      "64 bytes from 172.217.5.110: seq=176 ttl=37 time=5.861 ms\n",
      "64 bytes from 172.217.5.110: seq=177 ttl=37 time=4.707 ms\n",
      "64 bytes from 172.217.5.110: seq=178 ttl=37 time=5.649 ms\n",
      "64 bytes from 172.217.5.110: seq=179 ttl=37 time=6.063 ms\n",
      "64 bytes from 172.217.5.110: seq=180 ttl=37 time=5.492 ms\n",
      "64 bytes from 172.217.5.110: seq=181 ttl=37 time=8.672 ms\n",
      "64 bytes from 172.217.5.110: seq=182 ttl=37 time=5.688 ms\n",
      "PING google.com (172.217.6.78): 56 data bytes\n",
      "64 bytes from 172.217.6.78: seq=0 ttl=37 time=5.418 ms\n"
     ]
    }
   ],
   "source": [
    "!docker start fc88cc251959bf95dea640b82c954423f2f8b60e30cd4bcc2173433e33d485db\n",
    "!docker logs fc88cc251959bf95dea640b82c954423f2f8b60e30cd4bcc2173433e33d485db"
   ]
  },
  {
   "cell_type": "code",
   "execution_count": 47,
   "metadata": {},
   "outputs": [
    {
     "name": "stdout",
     "output_type": "stream",
     "text": [
      "CONTAINER ID        IMAGE               COMMAND             CREATED             STATUS              PORTS               NAMES\r\n",
      "f7769ba90a0a        busybox             \"ping google.com\"   5 minutes ago       Up 3 minutes                            eloquent_boyd\r\n"
     ]
    }
   ],
   "source": [
    "!docker ps"
   ]
  },
  {
   "cell_type": "code",
   "execution_count": 48,
   "metadata": {},
   "outputs": [
    {
     "name": "stdout",
     "output_type": "stream",
     "text": [
      "f7769ba90a0a\r\n"
     ]
    }
   ],
   "source": [
    "!docker stop f7769ba90a0a"
   ]
  },
  {
   "cell_type": "code",
   "execution_count": 50,
   "metadata": {},
   "outputs": [
    {
     "name": "stdout",
     "output_type": "stream",
     "text": [
      "CONTAINER ID        IMAGE               COMMAND             CREATED             STATUS              PORTS               NAMES\r\n"
     ]
    }
   ],
   "source": [
    "!docker ps"
   ]
  },
  {
   "cell_type": "code",
   "execution_count": 51,
   "metadata": {
    "scrolled": false
   },
   "outputs": [
    {
     "name": "stdout",
     "output_type": "stream",
     "text": [
      "Error response from daemon: Cannot kill container: f7769ba90a0a: Container f7769ba90a0a605cc53ed8313b6c2f79e401eeb796ed3e3984d32f5fcd64035b is not running\r\n"
     ]
    }
   ],
   "source": [
    "# !docker kill f7769ba90a0a"
   ]
  },
  {
   "cell_type": "markdown",
   "metadata": {},
   "source": [
    "- redis is an in-memory data store commonly used with web applications"
   ]
  },
  {
   "cell_type": "raw",
   "metadata": {},
   "source": [
    "In iTerm2, run:\n",
    "docker run redis"
   ]
  },
  {
   "cell_type": "code",
   "execution_count": 58,
   "metadata": {},
   "outputs": [
    {
     "name": "stdout",
     "output_type": "stream",
     "text": [
      "/bin/sh: redis-cli: command not found\r\n"
     ]
    }
   ],
   "source": [
    "# you have to execute commands inside the container\n",
    "!redis-cli"
   ]
  },
  {
   "cell_type": "code",
   "execution_count": 60,
   "metadata": {},
   "outputs": [
    {
     "name": "stdout",
     "output_type": "stream",
     "text": [
      "CONTAINER ID        IMAGE               COMMAND                  CREATED             STATUS              PORTS               NAMES\r\n",
      "b8219f9e6d4c        redis               \"docker-entrypoint.s…\"   8 minutes ago       Up 8 minutes        6379/tcp            amazing_northcutt\r\n"
     ]
    }
   ],
   "source": [
    "!docker ps"
   ]
  },
  {
   "cell_type": "markdown",
   "metadata": {},
   "source": [
    "-it allows us to provide input to the container, -i means attach terminal to STDIN of the container's command ; -t lets the output show up pretty\n",
    "***\n",
    "**docker exec -it b8219f9e6d4c redis-cli**  \n",
    "**set myvalue 5**  \n",
    "**get myvalue**"
   ]
  },
  {
   "cell_type": "markdown",
   "metadata": {},
   "source": [
    "### how to open up shell in context of your running container"
   ]
  },
  {
   "cell_type": "code",
   "execution_count": 62,
   "metadata": {
    "scrolled": true
   },
   "outputs": [
    {
     "name": "stdout",
     "output_type": "stream",
     "text": [
      "CONTAINER ID        IMAGE               COMMAND                  CREATED             STATUS              PORTS               NAMES\r\n",
      "b8219f9e6d4c        redis               \"docker-entrypoint.s…\"   22 minutes ago      Up 22 minutes       6379/tcp            amazing_northcutt\r\n"
     ]
    }
   ],
   "source": [
    "!docker ps"
   ]
  },
  {
   "cell_type": "markdown",
   "metadata": {},
   "source": [
    "Get full terminal access to the container, get out with ^D\n",
    "sh is a command processor to open a shell.  Others are bash, powershell, zsh, sh.  Most containers have sh, some have bash.\n",
    "\n",
    "\n",
    "**docker exec -it b8219f9e6d4c sh**"
   ]
  },
  {
   "cell_type": "raw",
   "metadata": {},
   "source": [
    "docker run -it busybox sh"
   ]
  },
  {
   "cell_type": "markdown",
   "metadata": {},
   "source": [
    "##### Container Isolation\n",
    "- containers don't share their file system\n",
    "- You have to specifically form a connection between two containers."
   ]
  },
  {
   "cell_type": "markdown",
   "metadata": {},
   "source": [
    "# Creating Docker Images\n",
    "- The process is to specify a base image, run commands to install additional programs, then provde a command to run on startup.\n",
    "- create a dockerfile, plaintext with lines of configuration about programs it contains and what it does when it starts up\n",
    "- client passes the file to a server, which builds a usable image\n",
    "    1. specify a base image\n",
    "    2. run commands to install additional programs\n",
    "    3. specify a command to run on container startup"
   ]
  },
  {
   "cell_type": "markdown",
   "metadata": {},
   "source": [
    "# create an image that runs redis-server\n",
    "mkdir redis-image\n",
    "cd redis-image\n",
    "code ."
   ]
  },
  {
   "cell_type": "raw",
   "metadata": {},
   "source": [
    "- make a file named Dockerfile:\n",
    "\n",
    "Dockerfile contents:\n",
    "# Use an existing docker image as a base\n",
    "# alpine comes with a preinstalled set of programs that are useful\n",
    "FROM alpine\n",
    "\n",
    "# Download and install a dependency\n",
    "# executes command while preparing custom image\n",
    "RUN apk add --update redis\n",
    "\n",
    "# Tell the image what to do when it starts as a container\n",
    "# what should be ran when image is used to start a new container\n",
    "CMD [\"redis-server\"]"
   ]
  },
  {
   "cell_type": "raw",
   "metadata": {},
   "source": [
    "docker build .\n",
    "\n",
    "Successfully built 74873fee6d3c\n",
    "\n",
    "docker run 74873fee6d3c\n",
    "\n",
    "... Ready to accept connections"
   ]
  },
  {
   "cell_type": "markdown",
   "metadata": {},
   "source": [
    "x"
   ]
  }
 ],
 "metadata": {
  "kernelspec": {
   "display_name": "Python 3",
   "language": "python",
   "name": "python3"
  },
  "language_info": {
   "codemirror_mode": {
    "name": "ipython",
    "version": 3
   },
   "file_extension": ".py",
   "mimetype": "text/x-python",
   "name": "python",
   "nbconvert_exporter": "python",
   "pygments_lexer": "ipython3",
   "version": "3.7.3"
  }
 },
 "nbformat": 4,
 "nbformat_minor": 2
}
