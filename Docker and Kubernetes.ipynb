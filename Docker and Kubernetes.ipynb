{
 "cells": [
  {
   "cell_type": "markdown",
   "metadata": {},
   "source": [
    "# Docker and Kubernetes\n",
    "> - This notebook describes the process of using a production-style development workflow to build, test and deploy Docker applications with Kubernetes.\n",
    "- Author: Brant Yukan, b.rant@ucla.edu\n",
    "- Date: 9/13/19"
   ]
  },
  {
   "cell_type": "markdown",
   "metadata": {},
   "source": [
    "## Goal: Use Docker to easily install and run software without troubleshooting setup  or dependencies.\n",
    "- e.g. docker run -it redis\n",
    "- An image is a file with all the dependencies and configurations required to run a program.  Containers are instances of an image."
   ]
  },
  {
   "cell_type": "markdown",
   "metadata": {},
   "source": [
    "### install on mac"
   ]
  },
  {
   "cell_type": "code",
   "execution_count": 5,
   "metadata": {},
   "outputs": [
    {
     "name": "stdout",
     "output_type": "stream",
     "text": [
      "\u001b[33mWarning:\u001b[0m Cask 'docker' is already installed.\r\n",
      "\r\n",
      "To re-install docker, run:\r\n",
      "  \u001b[32mbrew cask reinstall docker\u001b[39m\r\n"
     ]
    }
   ],
   "source": [
    "!brew cask install docker"
   ]
  },
  {
   "cell_type": "code",
   "execution_count": 8,
   "metadata": {},
   "outputs": [
    {
     "name": "stdout",
     "output_type": "stream",
     "text": [
      "Client: Docker Engine - Community\r\n",
      " Version:           19.03.2\r\n",
      " API version:       1.40\r\n",
      " Go version:        go1.12.8\r\n",
      " Git commit:        6a30dfc\r\n",
      " Built:             Thu Aug 29 05:26:49 2019\r\n",
      " OS/Arch:           darwin/amd64\r\n",
      " Experimental:      false\r\n",
      "\r\n",
      "Server: Docker Engine - Community\r\n",
      " Engine:\r\n",
      "  Version:          19.03.2\r\n",
      "  API version:      1.40 (minimum version 1.12)\r\n",
      "  Go version:       go1.12.8\r\n",
      "  Git commit:       6a30dfc\r\n",
      "  Built:            Thu Aug 29 05:32:21 2019\r\n",
      "  OS/Arch:          linux/amd64\r\n",
      "  Experimental:     false\r\n",
      " containerd:\r\n",
      "  Version:          v1.2.6\r\n",
      "  GitCommit:        894b81a4b802e4eb2a91d1ce216b8817763c29fb\r\n",
      " runc:\r\n",
      "  Version:          1.0.0-rc8\r\n",
      "  GitCommit:        425e105d5a03fabd737a126ad93d62a9eeede87f\r\n",
      " docker-init:\r\n",
      "  Version:          0.18.0\r\n",
      "  GitCommit:        fec3683\r\n"
     ]
    }
   ],
   "source": [
    "!docker version"
   ]
  },
  {
   "cell_type": "markdown",
   "metadata": {},
   "source": [
    "### using docker"
   ]
  },
  {
   "cell_type": "code",
   "execution_count": 11,
   "metadata": {},
   "outputs": [
    {
     "name": "stdout",
     "output_type": "stream",
     "text": [
      "\r\n",
      "Hello from Docker!\r\n",
      "This message shows that your installation appears to be working correctly.\r\n",
      "\r\n",
      "To generate this message, Docker took the following steps:\r\n",
      " 1. The Docker client contacted the Docker daemon.\r\n",
      " 2. The Docker daemon pulled the \"hello-world\" image from the Docker Hub.\r\n",
      "    (amd64)\r\n",
      " 3. The Docker daemon created a new container from that image which runs the\r\n",
      "    executable that produces the output you are currently reading.\r\n",
      " 4. The Docker daemon streamed that output to the Docker client, which sent it\r\n",
      "    to your terminal.\r\n",
      "\r\n",
      "To try something more ambitious, you can run an Ubuntu container with:\r\n",
      " $ docker run -it ubuntu bash\r\n",
      "\r\n",
      "Share images, automate workflows, and more with a free Docker ID:\r\n",
      " https://hub.docker.com/\r\n",
      "\r\n",
      "For more examples and ideas, visit:\r\n",
      " https://docs.docker.com/get-started/\r\n",
      "\r\n"
     ]
    }
   ],
   "source": [
    "# start up new container using image with name hello-world\n",
    "# first time, daemon pulls image from docker hub, after that it's saved in image cache\n",
    "!docker run hello-world"
   ]
  },
  {
   "cell_type": "code",
   "execution_count": null,
   "metadata": {},
   "outputs": [],
   "source": []
  }
 ],
 "metadata": {
  "kernelspec": {
   "display_name": "Python 3",
   "language": "python",
   "name": "python3"
  },
  "language_info": {
   "codemirror_mode": {
    "name": "ipython",
    "version": 3
   },
   "file_extension": ".py",
   "mimetype": "text/x-python",
   "name": "python",
   "nbconvert_exporter": "python",
   "pygments_lexer": "ipython3",
   "version": "3.7.1"
  }
 },
 "nbformat": 4,
 "nbformat_minor": 2
}
