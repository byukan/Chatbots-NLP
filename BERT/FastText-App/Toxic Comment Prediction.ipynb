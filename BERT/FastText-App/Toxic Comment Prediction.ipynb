{
 "cells": [
  {
   "cell_type": "markdown",
   "metadata": {},
   "source": [
    "# Toxic Comment Prediction "
   ]
  },
  {
   "cell_type": "code",
   "execution_count": 2,
   "metadata": {},
   "outputs": [],
   "source": [
    "import ktrain\n",
    "import os\n",
    "\n",
    "os.environ[\"CUDA_VISIBLE_DEVICES\"] = \"-1\" # use only CPU in prediction\n",
    "\n",
    "predictor = ktrain.load_predictor('toxic_fasttext')\n",
    "\n",
    "\n",
    "def get_prediction(x):\n",
    "\tpred = predictor.predict([x])\n",
    "\treturn pred[0]"
   ]
  },
  {
   "cell_type": "code",
   "execution_count": 6,
   "metadata": {},
   "outputs": [],
   "source": [
    "data = 'I hate you. I might kill you.'"
   ]
  },
  {
   "cell_type": "code",
   "execution_count": 7,
   "metadata": {},
   "outputs": [],
   "source": [
    "pred = get_prediction(data)"
   ]
  },
  {
   "cell_type": "code",
   "execution_count": 8,
   "metadata": {},
   "outputs": [
    {
     "data": {
      "text/plain": [
       "[('toxic', 0.8994166),\n",
       " ('severe_toxic', 0.15374182),\n",
       " ('obscene', 0.58276975),\n",
       " ('threat', 0.08321053),\n",
       " ('insult', 0.5845851),\n",
       " ('identity_hate', 0.11087632)]"
      ]
     },
     "execution_count": 8,
     "metadata": {},
     "output_type": "execute_result"
    }
   ],
   "source": [
    "pred"
   ]
  },
  {
   "cell_type": "code",
   "execution_count": 9,
   "metadata": {},
   "outputs": [],
   "source": [
    "import json"
   ]
  },
  {
   "cell_type": "code",
   "execution_count": 11,
   "metadata": {},
   "outputs": [],
   "source": [
    "d = dict(pred)\n",
    "for key in d:\n",
    "    d[key] = str(d[key])"
   ]
  },
  {
   "cell_type": "code",
   "execution_count": 12,
   "metadata": {},
   "outputs": [
    {
     "data": {
      "text/plain": [
       "{'toxic': '0.8994166',\n",
       " 'severe_toxic': '0.15374182',\n",
       " 'obscene': '0.58276975',\n",
       " 'threat': '0.08321053',\n",
       " 'insult': '0.5845851',\n",
       " 'identity_hate': '0.11087632'}"
      ]
     },
     "execution_count": 12,
     "metadata": {},
     "output_type": "execute_result"
    }
   ],
   "source": [
    "d"
   ]
  },
  {
   "cell_type": "code",
   "execution_count": 13,
   "metadata": {},
   "outputs": [
    {
     "data": {
      "text/plain": [
       "'{\"toxic\": \"0.8994166\", \"severe_toxic\": \"0.15374182\", \"obscene\": \"0.58276975\", \"threat\": \"0.08321053\", \"insult\": \"0.5845851\", \"identity_hate\": \"0.11087632\"}'"
      ]
     },
     "execution_count": 13,
     "metadata": {},
     "output_type": "execute_result"
    }
   ],
   "source": [
    "json.dumps(d)"
   ]
  },
  {
   "cell_type": "code",
   "execution_count": null,
   "metadata": {},
   "outputs": [],
   "source": []
  },
  {
   "cell_type": "markdown",
   "metadata": {},
   "source": [
    "## API Test at Local Server "
   ]
  },
  {
   "cell_type": "code",
   "execution_count": 14,
   "metadata": {},
   "outputs": [],
   "source": [
    "import requests, json"
   ]
  },
  {
   "cell_type": "code",
   "execution_count": 16,
   "metadata": {},
   "outputs": [
    {
     "data": {
      "text/plain": [
       "'Congrats! Server is working'"
      ]
     },
     "execution_count": 16,
     "metadata": {},
     "output_type": "execute_result"
    }
   ],
   "source": [
    "x = requests.get('http://localhost:5000')\n",
    "x.text"
   ]
  },
  {
   "cell_type": "code",
   "execution_count": 18,
   "metadata": {},
   "outputs": [
    {
     "data": {
      "text/plain": [
       "'{\"comment\": \"i hate you. i will kill you\"}'"
      ]
     },
     "execution_count": 18,
     "metadata": {},
     "output_type": "execute_result"
    }
   ],
   "source": [
    "data = {'comment': 'i hate you. i will kill you'}\n",
    "data = json.dumps(data)\n",
    "data"
   ]
  },
  {
   "cell_type": "code",
   "execution_count": 21,
   "metadata": {},
   "outputs": [
    {
     "name": "stdout",
     "output_type": "stream",
     "text": [
      "{\n",
      "  \"result\": {\n",
      "    \"identity_hate\": \"0.17886223\", \n",
      "    \"insult\": \"0.62433046\", \n",
      "    \"obscene\": \"0.6470538\", \n",
      "    \"severe_toxic\": \"0.23772837\", \n",
      "    \"threat\": \"0.11345375\", \n",
      "    \"toxic\": \"0.918481\"\n",
      "  }\n",
      "}\n",
      "\n"
     ]
    }
   ],
   "source": [
    "x = requests.post('http://localhost:5000/get_prediction', data)\n",
    "print(x.text)"
   ]
  },
  {
   "cell_type": "markdown",
   "metadata": {},
   "source": [
    "## uWSGI API Test from Ubuntu at AWS "
   ]
  },
  {
   "cell_type": "code",
   "execution_count": 22,
   "metadata": {},
   "outputs": [
    {
     "data": {
      "text/plain": [
       "'Congrats! Server is working'"
      ]
     },
     "execution_count": 22,
     "metadata": {},
     "output_type": "execute_result"
    }
   ],
   "source": [
    "import requests, json\n",
    "x = requests.get('http://3.135.222.85:5000')\n",
    "x.text"
   ]
  },
  {
   "cell_type": "code",
   "execution_count": 24,
   "metadata": {},
   "outputs": [
    {
     "name": "stdout",
     "output_type": "stream",
     "text": [
      "{\"result\":{\"identity_hate\":\"0.17886223\",\"insult\":\"0.62433046\",\"obscene\":\"0.6470538\",\"severe_toxic\":\"0.23772837\",\"threat\":\"0.11345375\",\"toxic\":\"0.918481\"}}\n",
      "\n",
      "{\"result\":{\"identity_hate\":\"0.17886223\",\"insult\":\"0.62433046\",\"obscene\":\"0.6470538\",\"severe_toxic\":\"0.23772837\",\"threat\":\"0.11345375\",\"toxic\":\"0.918481\"}}\n",
      "\n",
      "{\"result\":{\"identity_hate\":\"0.17886223\",\"insult\":\"0.62433046\",\"obscene\":\"0.6470538\",\"severe_toxic\":\"0.23772837\",\"threat\":\"0.11345375\",\"toxic\":\"0.918481\"}}\n",
      "\n",
      "{\"result\":{\"identity_hate\":\"0.17886223\",\"insult\":\"0.62433046\",\"obscene\":\"0.6470538\",\"severe_toxic\":\"0.23772837\",\"threat\":\"0.11345375\",\"toxic\":\"0.918481\"}}\n",
      "\n",
      "{\"result\":{\"identity_hate\":\"0.17886223\",\"insult\":\"0.62433046\",\"obscene\":\"0.6470538\",\"severe_toxic\":\"0.23772837\",\"threat\":\"0.11345375\",\"toxic\":\"0.918481\"}}\n",
      "\n",
      "{\"result\":{\"identity_hate\":\"0.17886223\",\"insult\":\"0.62433046\",\"obscene\":\"0.6470538\",\"severe_toxic\":\"0.23772837\",\"threat\":\"0.11345375\",\"toxic\":\"0.918481\"}}\n",
      "\n",
      "{\"result\":{\"identity_hate\":\"0.17886223\",\"insult\":\"0.62433046\",\"obscene\":\"0.6470538\",\"severe_toxic\":\"0.23772837\",\"threat\":\"0.11345375\",\"toxic\":\"0.918481\"}}\n",
      "\n",
      "{\"result\":{\"identity_hate\":\"0.17886223\",\"insult\":\"0.62433046\",\"obscene\":\"0.6470538\",\"severe_toxic\":\"0.23772837\",\"threat\":\"0.11345375\",\"toxic\":\"0.918481\"}}\n",
      "\n",
      "549 ms ± 12.3 ms per loop (mean ± std. dev. of 7 runs, 1 loop each)\n"
     ]
    }
   ],
   "source": [
    "%%timeit\n",
    "x = requests.post('http://3.135.222.85:5000/get_prediction', data)\n",
    "print(x.text)"
   ]
  },
  {
   "cell_type": "code",
   "execution_count": null,
   "metadata": {},
   "outputs": [],
   "source": []
  },
  {
   "cell_type": "code",
   "execution_count": null,
   "metadata": {},
   "outputs": [],
   "source": []
  },
  {
   "cell_type": "markdown",
   "metadata": {},
   "source": [
    "## NGINX API Test from Ubuntu at AWS "
   ]
  },
  {
   "cell_type": "code",
   "execution_count": 25,
   "metadata": {},
   "outputs": [
    {
     "data": {
      "text/plain": [
       "'Congrats! Server is working'"
      ]
     },
     "execution_count": 25,
     "metadata": {},
     "output_type": "execute_result"
    }
   ],
   "source": [
    "import requests, json\n",
    "x = requests.get('http://3.135.222.85')\n",
    "x.text"
   ]
  },
  {
   "cell_type": "code",
   "execution_count": 27,
   "metadata": {},
   "outputs": [
    {
     "name": "stdout",
     "output_type": "stream",
     "text": [
      "{\"result\":{\"identity_hate\":\"0.17886223\",\"insult\":\"0.62433046\",\"obscene\":\"0.6470538\",\"severe_toxic\":\"0.23772837\",\"threat\":\"0.11345375\",\"toxic\":\"0.918481\"}}\n",
      "\n",
      "Wall time: 964 ms\n"
     ]
    }
   ],
   "source": [
    "%%time\n",
    "x = requests.post('http://3.135.222.85/get_prediction', data)\n",
    "print(x.text)"
   ]
  },
  {
   "cell_type": "code",
   "execution_count": null,
   "metadata": {},
   "outputs": [],
   "source": []
  },
  {
   "cell_type": "code",
   "execution_count": null,
   "metadata": {},
   "outputs": [],
   "source": []
  },
  {
   "cell_type": "code",
   "execution_count": null,
   "metadata": {},
   "outputs": [],
   "source": []
  },
  {
   "cell_type": "code",
   "execution_count": null,
   "metadata": {},
   "outputs": [],
   "source": []
  },
  {
   "cell_type": "code",
   "execution_count": null,
   "metadata": {},
   "outputs": [],
   "source": []
  },
  {
   "cell_type": "code",
   "execution_count": null,
   "metadata": {},
   "outputs": [],
   "source": []
  },
  {
   "cell_type": "code",
   "execution_count": null,
   "metadata": {},
   "outputs": [],
   "source": []
  },
  {
   "cell_type": "code",
   "execution_count": null,
   "metadata": {},
   "outputs": [],
   "source": []
  }
 ],
 "metadata": {
  "kernelspec": {
   "display_name": "Python 3",
   "language": "python",
   "name": "python3"
  },
  "language_info": {
   "codemirror_mode": {
    "name": "ipython",
    "version": 3
   },
   "file_extension": ".py",
   "mimetype": "text/x-python",
   "name": "python",
   "nbconvert_exporter": "python",
   "pygments_lexer": "ipython3",
   "version": "3.7.6"
  }
 },
 "nbformat": 4,
 "nbformat_minor": 4
}
