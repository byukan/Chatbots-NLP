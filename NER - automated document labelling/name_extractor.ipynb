{
 "cells": [
  {
   "cell_type": "code",
   "execution_count": 1,
   "metadata": {},
   "outputs": [],
   "source": [
    "# # information-extraction.py\n",
    "\n",
    "# import re\n",
    "# import nltk\n",
    "# from nltk.corpus import stopwords\n",
    "# stop = stopwords.words('english')\n",
    "\n",
    "# string = \"\"\"\n",
    "# Hey,\n",
    "# This week has been crazy. Attached is my report on IBM. Can you give it a quick read and provide some feedback.\n",
    "# Also, make sure you reach out to Claire (claire@xyz.com).\n",
    "# You're the best.\n",
    "# Cheers,\n",
    "# George W.\n",
    "# 212-555-1234\n",
    "# \"\"\"\n",
    "\n",
    "# def extract_phone_numbers(string):\n",
    "#     r = re.compile(r'(\\d{3}[-\\.\\s]??\\d{3}[-\\.\\s]??\\d{4}|\\(\\d{3}\\)\\s*\\d{3}[-\\.\\s]??\\d{4}|\\d{3}[-\\.\\s]??\\d{4})')\n",
    "#     phone_numbers = r.findall(string)\n",
    "#     return [re.sub(r'\\D', '', number) for number in phone_numbers]\n",
    "\n",
    "# def extract_email_addresses(string):\n",
    "#     r = re.compile(r'[\\w\\.-]+@[\\w\\.-]+')\n",
    "#     return r.findall(string)\n",
    "\n",
    "# def ie_preprocess(document):\n",
    "#     document = ' '.join([i for i in document.split() if i not in stop])\n",
    "#     sentences = nltk.sent_tokenize(document)\n",
    "#     sentences = [nltk.word_tokenize(sent) for sent in sentences]\n",
    "#     sentences = [nltk.pos_tag(sent) for sent in sentences]\n",
    "#     return sentences\n",
    "\n",
    "# def extract_names(document):\n",
    "#     names = []\n",
    "#     sentences = ie_preprocess(document)\n",
    "#     for tagged_sentence in sentences:\n",
    "#         for chunk in nltk.ne_chunk(tagged_sentence):\n",
    "#             if type(chunk) == nltk.tree.Tree:\n",
    "#                 if chunk.label() == 'PERSON':\n",
    "#                     names.append(' '.join([c[0] for c in chunk]))\n",
    "#     return names\n",
    "\n",
    "# if __name__ == '__main__':\n",
    "#     numbers = extract_phone_numbers(string)\n",
    "#     emails = extract_email_addresses(string)\n",
    "#     names = extract_names(string)"
   ]
  },
  {
   "cell_type": "code",
   "execution_count": 2,
   "metadata": {},
   "outputs": [],
   "source": [
    "# import nltk\n",
    "# nltk.download('stopwords')\n",
    "# nltk.download('punkt')\n",
    "# nltk.download('averaged_perceptron_tagger')\n",
    "# nltk.download('maxent_ne_chunker')\n",
    "# nltk.download('words')"
   ]
  },
  {
   "cell_type": "code",
   "execution_count": 3,
   "metadata": {},
   "outputs": [],
   "source": [
    "# extract_names(string)"
   ]
  },
  {
   "cell_type": "code",
   "execution_count": 4,
   "metadata": {},
   "outputs": [],
   "source": [
    "# sentences = ie_preprocess(string)\n",
    "# for tagged_sentence in sentences:\n",
    "#     for chunk in nltk.ne_chunk(tagged_sentence):\n",
    "#         if type(chunk) == nltk.tree.Tree:\n",
    "#             print(chunk)"
   ]
  },
  {
   "cell_type": "markdown",
   "metadata": {},
   "source": [
    "## spaCy "
   ]
  },
  {
   "cell_type": "code",
   "execution_count": 5,
   "metadata": {},
   "outputs": [
    {
     "name": "stdout",
     "output_type": "stream",
     "text": [
      "\u001b[38;5;2m✔ Download and installation successful\u001b[0m\n",
      "You can now load the model via spacy.load('en_core_web_sm')\n",
      "\u001b[38;5;2m✔ Linking successful\u001b[0m\n",
      "/root/anaconda3/envs/nlp/lib/python3.7/site-packages/en_core_web_sm -->\n",
      "/root/anaconda3/envs/nlp/lib/python3.7/site-packages/spacy/data/en\n",
      "You can now load the model via spacy.load('en')\n",
      "\u001b[38;5;2m✔ Download and installation successful\u001b[0m\n",
      "You can now load the model via spacy.load('en_core_web_md')\n"
     ]
    }
   ],
   "source": [
    "from spacy.cli import download\n",
    "from collections import Counter\n",
    "download('en')\n",
    "download('en_core_web_md')"
   ]
  },
  {
   "cell_type": "code",
   "execution_count": 6,
   "metadata": {
    "scrolled": false
   },
   "outputs": [
    {
     "name": "stdout",
     "output_type": "stream",
     "text": [
      "1541 DATE 3 7\n",
      "Desoto GPE 8 14\n",
      "John Smith PERSON 28 38\n",
      "Pascagoula GPE 56 66\n",
      "Leaf PRODUCT 119 123\n",
      "Chickasawhay ORG 128 140\n",
      "30.4 CARDINAL 151 155\n"
     ]
    }
   ],
   "source": [
    "import spacy\n",
    "en_model = spacy.load('en_core_web_md')\n",
    "sentence = (\"In 1541 Desoto wrote in his John Smith journal that the Pascagoula people ranged as far north as the confluence of the Leaf and Chickasawhay rivers at 30.4, -88.5.\")\n",
    "parsed_sent = en_model(sentence)\n",
    "for ent in parsed_sent.ents:\n",
    "    print(ent.text, ent.label_, ent.start_char, ent.end_char)"
   ]
  },
  {
   "cell_type": "code",
   "execution_count": 7,
   "metadata": {},
   "outputs": [],
   "source": [
    "string = \"\"\"\n",
    "Hey,\n",
    "This week has been crazy. Attached is my report on IBM. Can you give it a quick read and provide some feedback.\n",
    "Also, make sure you reach out to Claire (claire@xyz.com).\n",
    "You're the best.\n",
    "Cheers,\n",
    "George W.\n",
    "212-555-1234\n",
    "\"\"\""
   ]
  },
  {
   "cell_type": "code",
   "execution_count": 8,
   "metadata": {},
   "outputs": [
    {
     "name": "stdout",
     "output_type": "stream",
     "text": [
      "This week DATE 6 15\n",
      "IBM ORG 57 60\n",
      "Claire PERSON 151 157\n",
      "George W.\n",
      " PERSON 201 211\n",
      "212 CARDINAL 211 214\n"
     ]
    }
   ],
   "source": [
    "parsed_sent = en_model(string)\n",
    "for ent in parsed_sent.ents:\n",
    "    print(ent.text, ent.label_, ent.start_char, ent.end_char)"
   ]
  },
  {
   "cell_type": "code",
   "execution_count": 9,
   "metadata": {},
   "outputs": [
    {
     "data": {
      "text/plain": [
       "[('Claire', 1), ('George W.', 1)]"
      ]
     },
     "execution_count": 9,
     "metadata": {},
     "output_type": "execute_result"
    }
   ],
   "source": [
    "def extract_name(s, en_model=en_model):\n",
    "    return Counter([*filter(lambda x: x[-2:]!='MD', map(lambda x: str(x)[:-3].strip() if str(x)[-3:] == 'DOB' else str(x).strip(), [ent for ent in en_model(s).ents if ent.label_ == 'PERSON']))]).most_common()\n",
    "    \n",
    "\n",
    "extract_name(string)"
   ]
  },
  {
   "cell_type": "code",
   "execution_count": 3,
   "metadata": {},
   "outputs": [],
   "source": [
    "with open('../unknown.txt', 'r') as file:\n",
    "    data = file.read()\n",
    "#     print(extract_name(data))"
   ]
  },
  {
   "cell_type": "code",
   "execution_count": 12,
   "metadata": {
    "scrolled": true
   },
   "outputs": [
    {
     "data": {
      "text/plain": [
       "'MD'"
      ]
     },
     "execution_count": 12,
     "metadata": {},
     "output_type": "execute_result"
    }
   ],
   "source": [
    "'Andrew Hesseltine MD'[-2:]"
   ]
  },
  {
   "cell_type": "code",
   "execution_count": 21,
   "metadata": {},
   "outputs": [],
   "source": [
    "# with open('../unknown.txt', 'r') as file:\n",
    "#     data = file.read()\n",
    "#     print(data)"
   ]
  },
  {
   "cell_type": "code",
   "execution_count": 20,
   "metadata": {},
   "outputs": [],
   "source": [
    "s = \"Please find attached a report for [redacted PATIENT NAME]. Andrew Hesseltine MD \f",
    "© 07-11-2019 12:35 PM Fax Services ~» 19098248234 pg 2 of 3\""
   ]
  },
  {
   "cell_type": "code",
   "execution_count": 1,
   "metadata": {},
   "outputs": [],
   "source": [
    "# print(extract_name(s))\n",
    "# hidden for patient privacy"
   ]
  },
  {
   "cell_type": "code",
   "execution_count": null,
   "metadata": {},
   "outputs": [],
   "source": []
  }
 ],
 "metadata": {
  "kernelspec": {
   "display_name": "Python 3",
   "language": "python",
   "name": "python3"
  },
  "language_info": {
   "codemirror_mode": {
    "name": "ipython",
    "version": 3
   },
   "file_extension": ".py",
   "mimetype": "text/x-python",
   "name": "python",
   "nbconvert_exporter": "python",
   "pygments_lexer": "ipython3",
   "version": "3.7.9"
  }
 },
 "nbformat": 4,
 "nbformat_minor": 4
}
