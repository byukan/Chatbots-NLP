{
 "cells": [
  {
   "cell_type": "markdown",
   "metadata": {},
   "source": [
    "# Move scans into organized patient folders"
   ]
  },
  {
   "cell_type": "code",
   "execution_count": 1,
   "metadata": {
    "scrolled": true
   },
   "outputs": [
    {
     "name": "stdout",
     "output_type": "stream",
     "text": [
      "Saving 2 png images for file: 202012171708.pdf."
     ]
    },
    {
     "data": {
      "application/vnd.jupyter.widget-view+json": {
       "model_id": "bc7ea25d339f45369b38e4cedc0cc962",
       "version_major": 2,
       "version_minor": 0
      },
      "text/plain": [
       "HBox(children=(HTML(value=''), FloatProgress(value=1.0, bar_style='info', layout=Layout(width='20px'), max=1.0…"
      ]
     },
     "metadata": {},
     "output_type": "display_data"
    },
    {
     "name": "stdout",
     "output_type": "stream",
     "text": [
      "\n",
      "Running OCR on images and saving 2 .txt files for file: 202012171708.pdf."
     ]
    },
    {
     "data": {
      "application/vnd.jupyter.widget-view+json": {
       "model_id": "281a35a302f6425e8254b037074e403d",
       "version_major": 2,
       "version_minor": 0
      },
      "text/plain": [
       "HBox(children=(HTML(value=''), FloatProgress(value=0.0, max=2.0), HTML(value='')))"
      ]
     },
     "metadata": {},
     "output_type": "display_data"
    },
    {
     "name": "stdout",
     "output_type": "stream",
     "text": [
      "\n"
     ]
    }
   ],
   "source": [
    "from importlib import reload\n",
    "import pdf_ocr\n",
    "reload(pdf_ocr)\n",
    "from pdf_ocr import *\n",
    "\n",
    "unsorted_scans = '/Users/byukan/docsort/data/_unsorted_scans'\n",
    "file = os.listdir(unsorted_scans)[0]\n",
    "p = f'{unsorted_scans}/{file}'\n",
    "\n",
    "num_pages, ocr_text = pdf_ocr(p, reprocess=True)\n",
    "names_counter = extract_name(ocr_text)"
   ]
  },
  {
   "cell_type": "code",
   "execution_count": 2,
   "metadata": {},
   "outputs": [
    {
     "data": {
      "text/plain": [
       "'202012171708.pdf'"
      ]
     },
     "execution_count": 2,
     "metadata": {},
     "output_type": "execute_result"
    }
   ],
   "source": [
    "file"
   ]
  },
  {
   "cell_type": "code",
   "execution_count": 1,
   "metadata": {},
   "outputs": [],
   "source": [
    "# names_counter"
   ]
  },
  {
   "cell_type": "code",
   "execution_count": 4,
   "metadata": {},
   "outputs": [],
   "source": [
    "patients = pd.read_csv('data/patient_names.csv')\n",
    "patient_names_set = set(patients.firstname + ' ' + patients.lastname)\n",
    "doctors = pd.read_csv('data/doctor_names.csv')\n",
    "doctor_names_set = set(doctors.firstname + ' ' + doctors.lastname)"
   ]
  },
  {
   "cell_type": "code",
   "execution_count": 5,
   "metadata": {},
   "outputs": [],
   "source": [
    "patient_names_set.add('Brant Yukan')"
   ]
  },
  {
   "cell_type": "code",
   "execution_count": 6,
   "metadata": {},
   "outputs": [],
   "source": [
    "def best_guess(names_counter, patient_names_set, doctor_names_set):\n",
    "    \"\"\"\n",
    "    Favor patient names from known list and omit doctors names.\n",
    "    :param: names_counter is the counter of PERSON entities.\n",
    "    :return: patient's first and last name\n",
    "    \"\"\"\n",
    "    # set(candidates).intersection(patient_names_set)\n",
    "    candidates = list(set(x[0] for x in names_counter) - doctor_names_set) # remove doctor names\n",
    "    fuzz_scores = [*map(lambda x: process.extractOne(x, patient_names_set, ), candidates)]\n",
    "\n",
    "    first = sorted([x for x in zip(candidates, fuzz_scores)], key=lambda x: x[1][1], reverse=True)[0]\n",
    "    score = first[1][1]\n",
    "    if score > 95:\n",
    "        return first[0]\n",
    "    else:\n",
    "        return 'No match found.'\n",
    "\n",
    "\n",
    "name = best_guess(names_counter, patient_names_set, doctor_names_set)"
   ]
  },
  {
   "cell_type": "code",
   "execution_count": 2,
   "metadata": {},
   "outputs": [],
   "source": [
    "first_name = ' '.join(name.split(' ')[:-1])\n",
    "last_name = name.split(' ')[-1]\n",
    "\n",
    "date = parse(file.split('.')[0]).date()\n",
    "slash_date = date.strftime('%m/%d/%Y')\n",
    "\n",
    "DOB = 'DOB'\n",
    "\n",
    "folder_name = f'{last_name}, {first_name} - {DOB}'\n",
    "folder_name"
   ]
  },
  {
   "cell_type": "code",
   "execution_count": 8,
   "metadata": {},
   "outputs": [],
   "source": [
    "dot_date = date.strftime('%m.%d.%Y')\n",
    "classification = 'Notice of Depo'\n",
    "file_name = f'{dot_date} - {last_name}, {first_name} - {classification}.pdf'"
   ]
  },
  {
   "cell_type": "markdown",
   "metadata": {},
   "source": [
    "Folder naming schema: \n",
    "Lastname, Firstname - MM_DD_YYYY\n",
    "\n",
    "File naming schema:\n",
    "DATE_OF_DOCUMENT - Lastname, Firstname - CLASSIFICATION.extracts\n",
    "**Date_OF_DOCUMENT & CLASSIFICATION ARE FUTURE implementations."
   ]
  },
  {
   "cell_type": "code",
   "execution_count": 3,
   "metadata": {},
   "outputs": [],
   "source": [
    "# folder_name"
   ]
  },
  {
   "cell_type": "code",
   "execution_count": 4,
   "metadata": {},
   "outputs": [],
   "source": [
    "import shutil\n",
    "\n",
    "folder_path = f'data/patients/{folder_name}'\n",
    "if not os.path.exists(folder_path):\n",
    "    os.makedirs(folder_path)\n",
    "shutil.copy(p, folder_path)"
   ]
  },
  {
   "cell_type": "code",
   "execution_count": 11,
   "metadata": {},
   "outputs": [],
   "source": [
    "os.rename(f'{folder_path}/{file}', f'{folder_path}/{file_name}')"
   ]
  },
  {
   "cell_type": "code",
   "execution_count": null,
   "metadata": {},
   "outputs": [],
   "source": []
  },
  {
   "cell_type": "code",
   "execution_count": null,
   "metadata": {},
   "outputs": [],
   "source": []
  },
  {
   "cell_type": "code",
   "execution_count": null,
   "metadata": {},
   "outputs": [],
   "source": []
  },
  {
   "cell_type": "code",
   "execution_count": 20,
   "metadata": {},
   "outputs": [],
   "source": [
    "# creds = yaml.load(open('ssl/credentials.yml'), Loader=yaml.FullLoader)\n",
    "\n",
    "# # https://github.com/pahaz/sshtunnel#example-3\n",
    "\n",
    "# import mysql.connector\n",
    "# import sshtunnel\n",
    "# import pandas as pd\n",
    "\n",
    "# sshtunnel.SSH_TIMEOUT = 5.0\n",
    "# sshtunnel.TUNNEL_TIMEOUT = 5.0\n",
    "\n",
    "# with sshtunnel.SSHTunnelForwarder(\n",
    "#     ('zmbies.com',187),\n",
    "#     ssh_username='root', ssh_password=creds['ssh_password'],\n",
    "#     remote_bind_address=('127.0.0.1',3306)\n",
    "#     ) as tunnel:\n",
    "#         connection = mysql.connector.connect(user='root', password=creds['password'],host='127.0.0.1', port=tunnel.local_bind_port,database='myuser$mydb')\n",
    "#         sql = 'SELECT * from patients'\n",
    "#         df = pd.read_sql(sql, con=connection)\n",
    "#         print(df.head())\n",
    "#         connection.close()"
   ]
  },
  {
   "cell_type": "code",
   "execution_count": 21,
   "metadata": {},
   "outputs": [],
   "source": [
    "# import mysql.connector\n",
    "# import sshtunnel\n",
    "\n",
    "# with sshtunnel.SSHTunnelForwarder(\n",
    "#     (creds['host'], creds['port']),\n",
    "#     ssh_username = creds['user'],\n",
    "#     ssh_password = creds['ssh_password'],\n",
    "#     remote_bind_address = ('127.0.0.1', 3306)\n",
    "# ) as tunnel:\n",
    "#     connection = mysql.connector.connect(\n",
    "#         user = creds['user'],\n",
    "#         password = creds['password'],\n",
    "#         host = 'localhost',\n",
    "#         port = tunnel.local_bind_port,\n",
    "#         database = creds['database'],\n",
    "#     )\n",
    "#     mycursor = connection.cursor()\n",
    "#     query = \"SELECT * FROM patients\"\n",
    "#     mycursor.execute(query)\n"
   ]
  },
  {
   "cell_type": "code",
   "execution_count": null,
   "metadata": {},
   "outputs": [],
   "source": []
  }
 ],
 "metadata": {
  "kernelspec": {
   "display_name": "Python 3",
   "language": "python",
   "name": "python3"
  },
  "language_info": {
   "codemirror_mode": {
    "name": "ipython",
    "version": 3
   },
   "file_extension": ".py",
   "mimetype": "text/x-python",
   "name": "python",
   "nbconvert_exporter": "python",
   "pygments_lexer": "ipython3",
   "version": "3.7.3"
  }
 },
 "nbformat": 4,
 "nbformat_minor": 4
}
