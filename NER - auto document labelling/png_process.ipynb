{
 "cells": [
  {
   "cell_type": "markdown",
   "metadata": {},
   "source": [
    "# Connect to MySQL\n",
    "- get list of pngs\n",
    "- samba mapped network drive"
   ]
  },
  {
   "cell_type": "code",
   "execution_count": null,
   "metadata": {},
   "outputs": [],
   "source": [
    "from pdf_ocr import *"
   ]
  },
  {
   "cell_type": "code",
   "execution_count": null,
   "metadata": {},
   "outputs": [],
   "source": [
    "tqdm.pandas()\n",
    "creds = yaml.load(open('ssl/cred.yml'), Loader=yaml.FullLoader)\n",
    "\n",
    "# https://towardsdatascience.com/sql-on-the-cloud-with-python-c08a30807661\n",
    "config = {\n",
    "    'user': 'nlpfx',\n",
    "    'password': creds['password'],\n",
    "    'host': creds['host'],\n",
    "    'client_flags': [ClientFlag.SSL],\n",
    "    'ssl_ca': 'ssl/server-ca.pem',\n",
    "    'ssl_cert': 'ssl/client-cert.pem',\n",
    "    'ssl_key': 'ssl/client-key.pem',\n",
    "    'database': 'ocrProcessing'\n",
    "}\n"
   ]
  },
  {
   "cell_type": "code",
   "execution_count": null,
   "metadata": {
    "scrolled": true
   },
   "outputs": [],
   "source": [
    "# now we establish our connection\n",
    "cnxn = mysql.connector.connect(**config)\n",
    "mycursor = cnxn.cursor()\n",
    "\n",
    "# https://drive.google.com/file/d/1d7e-cUzP3fXduV6quxgaTEA09vlevdMo/view\n",
    "# get headers with show columns\n",
    "mycursor.execute(\"show columns from ocrLogs\")\n",
    "header = [x[0] for x in mycursor.fetchall()]\n",
    "\n",
    "# select table\n",
    "# df = pd.read_sql('SELECT * FROM table_name', con=db_connection)\n",
    "mycursor.execute(\"\"\"\n",
    "select * from ocrLogs\n",
    "where status=0 \n",
    "and file_type='application/pdf'\n",
    "and docName not in ('16070024921708', '16070024929618', '16070025038368')\n",
    "limit 2\n",
    "\"\"\")\n",
    "myresult = mycursor.fetchall()\n",
    "\n",
    "df = pd.DataFrame(myresult, columns = header)\n",
    "df.tail()"
   ]
  },
  {
   "cell_type": "code",
   "execution_count": null,
   "metadata": {},
   "outputs": [],
   "source": [
    "from collections import Counter\n",
    "Counter(df['file_type']).most_common()"
   ]
  },
  {
   "cell_type": "code",
   "execution_count": null,
   "metadata": {},
   "outputs": [],
   "source": [
    "import os\n",
    "os.environ[\"GOOGLE_APPLICATION_CREDENTIALS\"]=\"/Users/byukan/document-classification/ssl/[redacted].json\""
   ]
  },
  {
   "cell_type": "code",
   "execution_count": null,
   "metadata": {},
   "outputs": [],
   "source": [
    "'/var/www/nlpfx.com/public/uploads/upd/1607002743'.split('/')[-1]"
   ]
  },
  {
   "cell_type": "code",
   "execution_count": null,
   "metadata": {},
   "outputs": [],
   "source": [
    "df['full_path'] = df.apply(lambda x: '/Users/byukan/upds/' + x.docLocation.split('/')[-1]+'/' + x.docName, axis=1)"
   ]
  },
  {
   "cell_type": "code",
   "execution_count": null,
   "metadata": {},
   "outputs": [],
   "source": [
    "df['full_path'][0]"
   ]
  },
  {
   "cell_type": "code",
   "execution_count": null,
   "metadata": {},
   "outputs": [],
   "source": [
    "# get the full path\n",
    "# /var/www/nlpfx.com/public/uploads/upd\n",
    "\n",
    "# docLocation = '1606977200'\n",
    "# docOriginalName = 'adafruit_national_hispanic_heritage_month_2020_blog-3-356x267.jpg'\n",
    "# full_path = f'/var/www/nlpfx.com/public/uploads/upd/{docLocation}/{docOriginalName}'\n",
    "# full_path"
   ]
  },
  {
   "cell_type": "code",
   "execution_count": null,
   "metadata": {},
   "outputs": [],
   "source": [
    "# text file with all the names /var/www/nlpfx.com/uploads/"
   ]
  },
  {
   "cell_type": "markdown",
   "metadata": {},
   "source": [
    "## OCR"
   ]
  },
  {
   "cell_type": "code",
   "execution_count": null,
   "metadata": {},
   "outputs": [],
   "source": [
    "# pytesseract.image_to_string(Image.open(full_path))"
   ]
  },
  {
   "cell_type": "code",
   "execution_count": null,
   "metadata": {},
   "outputs": [],
   "source": [
    "# '/var/www/nlpfx.com/public/uploads/upd/1607002738/16070027386985'\n",
    "# pytesseract.image_to_string(Image.open('/var/www/nlpfx.com/public/uploads/upd/1607002738/16070027386985'\n",
    "# ))"
   ]
  },
  {
   "cell_type": "code",
   "execution_count": null,
   "metadata": {},
   "outputs": [],
   "source": [
    "# # https://cloud.google.com/storage/docs/downloading-objects#storage-download-object-python\n",
    "# from google.cloud import storage\n",
    "\n",
    "# client = storage.Client()\n",
    "# bucket = client.bucket('upds')\n",
    "\n",
    "# # blobs = list(bucket.list_blobs(prefix=)"
   ]
  },
  {
   "cell_type": "code",
   "execution_count": null,
   "metadata": {},
   "outputs": [],
   "source": [
    "# blob = bucket.blob('1607002492/16070024921708')"
   ]
  },
  {
   "cell_type": "code",
   "execution_count": null,
   "metadata": {},
   "outputs": [],
   "source": [
    "# %timeit blob.download_as_string();\n",
    "# %timeit blob.download_to_file();\n",
    "# %timeit blob.download_to_filename();\n",
    "# %timeit blob.download_as_bytes();"
   ]
  },
  {
   "cell_type": "code",
   "execution_count": null,
   "metadata": {},
   "outputs": [],
   "source": [
    "# p = 'gs://upds/1607002492/16070024921708'\n",
    "# pytesseract.image_to_string(Image.open(p))"
   ]
  },
  {
   "cell_type": "code",
   "execution_count": null,
   "metadata": {
    "scrolled": true
   },
   "outputs": [],
   "source": [
    "# def ocr(x):\n",
    "#     try: return pytesseract.image_to_string(Image.open(x))\n",
    "#     except: return \"\"\n",
    "\n",
    "# df['ocr_text'] = df['full_path'].apply(ocr)"
   ]
  },
  {
   "cell_type": "markdown",
   "metadata": {},
   "source": [
    "### pdf and docx\n",
    "- PyPDF2 does not ocr images in pdfs, hence we have to convert pdfs to pngs first"
   ]
  },
  {
   "cell_type": "code",
   "execution_count": null,
   "metadata": {},
   "outputs": [],
   "source": [
    "# !pip install PyPDF2\n",
    "import PyPDF2\n",
    "# pdf_path = r\"data/opthalmologist notes - Yukan, Brant_DOB_6_12_1992_DOS_7_28_2020_TO _DOS_5_8_2020.pdf\"\n",
    "\n",
    "pdf_path = '/Users/byukan/upds/1607002743/16070027436638'\n",
    "filename = pdf_path.split('/')[-1]\n",
    "\n",
    "\n",
    "# pdfFileObject = open(pdf_path, 'rb')\n",
    "# pdfReader = PyPDF2.PdfFileReader(pdfFileObject)\n",
    "# '\\n'.join([pdfReader.getPage(i).extractText() for i in range(pdfReader.numPages)])[:100]"
   ]
  },
  {
   "cell_type": "code",
   "execution_count": null,
   "metadata": {
    "scrolled": true
   },
   "outputs": [],
   "source": [
    "df['ocr_text'] = df['full_path'].progress_apply(pdf_ocr)"
   ]
  },
  {
   "cell_type": "code",
   "execution_count": null,
   "metadata": {},
   "outputs": [],
   "source": [
    "df['num_pages'] = df['ocr_text'].apply(lambda x: x[0])\n",
    "df['ocr_text'] = df['ocr_text'].apply(lambda x: x[1])"
   ]
  },
  {
   "cell_type": "code",
   "execution_count": null,
   "metadata": {},
   "outputs": [],
   "source": [
    "df"
   ]
  },
  {
   "cell_type": "code",
   "execution_count": null,
   "metadata": {},
   "outputs": [],
   "source": [
    "# # !pip install python-docx\n",
    "# import docx\n",
    "# doc = docx.Document('data/DreamSystem_BYukan.docx')\n",
    "# '\\n'.join([x.text for x in doc.paragraphs])[:100]"
   ]
  },
  {
   "cell_type": "markdown",
   "metadata": {},
   "source": [
    "# Extract name"
   ]
  },
  {
   "cell_type": "code",
   "execution_count": null,
   "metadata": {},
   "outputs": [],
   "source": [
    "# from spacy.cli import download\n",
    "# download('en')\n",
    "# download('en_core_web_md')"
   ]
  },
  {
   "cell_type": "code",
   "execution_count": null,
   "metadata": {
    "scrolled": true
   },
   "outputs": [],
   "source": [
    "os.path.basename(df['full_path'][1])"
   ]
  },
  {
   "cell_type": "code",
   "execution_count": null,
   "metadata": {},
   "outputs": [],
   "source": [
    "s = pytesseract.image_to_string(Image.open('/Users/byukan/document-classification/data/images_opthalmologist notes - Yukan, Brant_DOB_6_12_1992_DOS_7_28_2020_TO _DOS_5_8_2020/opthalmologist notes - Yukan, Brant_DOB_6_12_1992_DOS_7_28_2020_TO _DOS_5_8_2020_0.png'))\n",
    "extract_name(s)"
   ]
  },
  {
   "cell_type": "code",
   "execution_count": null,
   "metadata": {},
   "outputs": [],
   "source": [
    "df['extracted_names'] = df['ocr_text'].apply(lambda x: extract_name(x))"
   ]
  },
  {
   "cell_type": "code",
   "execution_count": null,
   "metadata": {},
   "outputs": [],
   "source": [
    "df['best_guess_name'] = df['extracted_names'].apply(lambda x: x[0][0] if x else '')"
   ]
  },
  {
   "cell_type": "code",
   "execution_count": null,
   "metadata": {},
   "outputs": [],
   "source": [
    "pdf_ocr(df['full_path'][0])"
   ]
  },
  {
   "cell_type": "code",
   "execution_count": null,
   "metadata": {},
   "outputs": [],
   "source": [
    "df"
   ]
  },
  {
   "cell_type": "markdown",
   "metadata": {},
   "source": [
    "# upload to ocrProcessing\n",
    "- /var/www/mnt/shared/TEMP-Patient/{{PATIENT LAST NAME}}{{PATIENT FIRST NAME}}{{RANDOM STRING}}"
   ]
  },
  {
   "cell_type": "code",
   "execution_count": null,
   "metadata": {},
   "outputs": [],
   "source": [
    "df['full_path'] = df['full_path'].map(lambda s: s[s.find('/upds/')+1:])"
   ]
  },
  {
   "cell_type": "code",
   "execution_count": null,
   "metadata": {},
   "outputs": [],
   "source": [
    "df['ocrLogs_id'] = df['id']"
   ]
  },
  {
   "cell_type": "code",
   "execution_count": null,
   "metadata": {},
   "outputs": [],
   "source": [
    "cols = 'id docName num_pages extracted_names best_guess_name full_path ocr_text'.split(' ')\n",
    "df[cols]"
   ]
  },
  {
   "cell_type": "code",
   "execution_count": null,
   "metadata": {},
   "outputs": [],
   "source": [
    "mycursor = cnxn.cursor()\n",
    "\n",
    "mycursor.execute(\"\"\"\n",
    "describe nerOutput\n",
    "\"\"\")\n",
    "\n",
    "myresult = mycursor.fetchall()\n",
    "\n",
    "for x in myresult:\n",
    "    print(x)"
   ]
  },
  {
   "cell_type": "code",
   "execution_count": null,
   "metadata": {},
   "outputs": [],
   "source": [
    "mycursor = cnxn.cursor()\n",
    "\n",
    "mycursor.execute(\"\"\"\n",
    "describe nerOutput\n",
    "\"\"\")\n",
    "\n",
    "myresult = mycursor.fetchall()\n",
    "\n",
    "for x in myresult:\n",
    "    print(x)"
   ]
  },
  {
   "cell_type": "code",
   "execution_count": null,
   "metadata": {
    "scrolled": false
   },
   "outputs": [],
   "source": [
    "insert_df = df[[x[0] for x in myresult][1:]]\n",
    "insert_df['extracted_names'] = insert_df['extracted_names'].astype(str)\n",
    "insert_df"
   ]
  },
  {
   "cell_type": "code",
   "execution_count": null,
   "metadata": {},
   "outputs": [],
   "source": [
    "# # https://www.dataquest.io/blog/sql-insert-tutorial/\n",
    "# # creating column list for insertion\n",
    "# cols = \"`,`\".join([str(i) for i in insert_df.columns.tolist()])\n",
    "\n",
    "# # Insert DataFrame recrds one by one.\n",
    "# for i,row in insert_df.iterrows():\n",
    "#     sql = \"INSERT INTO `nerOutput` (`\" +cols + \"`) VALUES (\" + \"%s,\"*(len(row)-1) + \"%s)\"\n",
    "#     mycursor.execute(sql, tuple(row))\n",
    "\n",
    "#     # the connection is not autocommitted by default, so we must commit to save our changes\n",
    "#     connection.commit()"
   ]
  },
  {
   "cell_type": "code",
   "execution_count": null,
   "metadata": {},
   "outputs": [],
   "source": [
    "columns_list = ', '.join(insert_df.columns.to_list())\n",
    "ses = '%s, ' * (len(insert_df.columns)-1) + '%s'\n",
    "\n",
    "sql = f\"INSERT INTO nerOutput ({columns_list}) VALUES ({ses})\"\n",
    "val = [*map(tuple, insert_df.to_numpy())]\n",
    "\n",
    "try:\n",
    "    mycursor.executemany(sql, val)\n",
    "except Exception as e:\n",
    "    print(e)\n",
    "\n",
    "cnxn.commit()\n",
    "\n",
    "print(mycursor.rowcount, \"was inserted.\") "
   ]
  },
  {
   "cell_type": "code",
   "execution_count": null,
   "metadata": {},
   "outputs": [],
   "source": [
    "tuple(insert_df['ocrLogs_id'])"
   ]
  },
  {
   "cell_type": "code",
   "execution_count": null,
   "metadata": {},
   "outputs": [],
   "source": [
    "# # update processed documents\n",
    "# sql = \"UPDATE ocrLogs SET status = 1 WHERE id = %s\"\n",
    "# val = [(x,) for x in insert_df['ocrLogs_id']]\n",
    "\n",
    "# mycursor.executemany(sql, val)\n",
    "\n",
    "# cnxn.commit()\n",
    "\n",
    "# print(mycursor.rowcount, \"record(s) affected\") "
   ]
  },
  {
   "cell_type": "code",
   "execution_count": null,
   "metadata": {},
   "outputs": [],
   "source": [
    "# upload files to gcp storage bucket\n",
    "os.system('gsutil -m cp -r data/pngs/* gs://pngi')\n",
    "os.system('gsutil -m cp -r data/txts/* gs://txtf')"
   ]
  },
  {
   "cell_type": "code",
   "execution_count": null,
   "metadata": {},
   "outputs": [],
   "source": [
    "# os.system('rm -rf data/pngs/')\n",
    "# os.system('rm -rf data/txts/')"
   ]
  },
  {
   "cell_type": "markdown",
   "metadata": {},
   "source": [
    "## png_process.py"
   ]
  },
  {
   "cell_type": "code",
   "execution_count": null,
   "metadata": {},
   "outputs": [],
   "source": []
  },
  {
   "cell_type": "code",
   "execution_count": null,
   "metadata": {},
   "outputs": [],
   "source": []
  },
  {
   "cell_type": "code",
   "execution_count": null,
   "metadata": {},
   "outputs": [],
   "source": []
  },
  {
   "cell_type": "code",
   "execution_count": null,
   "metadata": {},
   "outputs": [],
   "source": []
  }
 ],
 "metadata": {
  "kernelspec": {
   "display_name": "Python 3",
   "language": "python",
   "name": "python3"
  },
  "language_info": {
   "codemirror_mode": {
    "name": "ipython",
    "version": 3
   },
   "file_extension": ".py",
   "mimetype": "text/x-python",
   "name": "python",
   "nbconvert_exporter": "python",
   "pygments_lexer": "ipython3",
   "version": "3.7.3"
  }
 },
 "nbformat": 4,
 "nbformat_minor": 4
}
