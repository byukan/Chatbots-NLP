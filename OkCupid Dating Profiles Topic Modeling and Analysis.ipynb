{
 "cells": [
  {
   "cell_type": "markdown",
   "metadata": {},
   "source": [
    "# OkCupid Profiles Topic Modeling and Analysis\n",
    "- This notebook explores OkCupid dating profile bio descriptions.  We have a dataset of profiles containing name, age, location, and description.  The data was obtained using an API.  Here, we use a small sample of ~3400 observations.\n",
    "- Let's start with exploratory summary stats, then see what clusters form when we apply topic modeling techniques."
   ]
  },
  {
   "cell_type": "code",
   "execution_count": 10,
   "metadata": {},
   "outputs": [],
   "source": [
    "import pandas as pd\n",
    "# from sqlalchemy import create_engine\n",
    "# import pymysql"
   ]
  },
  {
   "cell_type": "code",
   "execution_count": 12,
   "metadata": {},
   "outputs": [],
   "source": [
    "# engine = create_engine(\"mysql+pymysql://[redacted]:[redacted]@[redacted]/[redacted]?host=localhost?port=3306\")\n",
    "# conn = engine.connect()\n",
    "# sql = 'SELECT * from profile'\n",
    "# df = pd.read_sql(sql, conn)\n",
    "\n",
    "df = pd.read_csv('data/OKC_profiles.csv')"
   ]
  },
  {
   "cell_type": "code",
   "execution_count": null,
   "metadata": {},
   "outputs": [],
   "source": []
  }
 ],
 "metadata": {
  "kernelspec": {
   "display_name": "Python 3",
   "language": "python",
   "name": "python3"
  },
  "language_info": {
   "codemirror_mode": {
    "name": "ipython",
    "version": 3
   },
   "file_extension": ".py",
   "mimetype": "text/x-python",
   "name": "python",
   "nbconvert_exporter": "python",
   "pygments_lexer": "ipython3",
   "version": "3.6.4"
  }
 },
 "nbformat": 4,
 "nbformat_minor": 2
}
