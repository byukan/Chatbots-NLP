{
 "cells": [
  {
   "cell_type": "markdown",
   "metadata": {},
   "source": [
    "# OkCupid Profiles Topic Modeling and Analysis\n",
    "- This notebook explores OkCupid dating profile bio descriptions.  We have a dataset of profiles containing name, age, location, and description.  The data was obtained using an API.  Here, we use a small sample of ~3400 observations.\n",
    "- Let's start with exploratory summary stats, then see what clusters and abstract themes form when we apply topic modeling techniques."
   ]
  },
  {
   "cell_type": "code",
   "execution_count": 101,
   "metadata": {},
   "outputs": [
    {
     "data": {
      "text/html": [
       "<script>requirejs.config({paths: { 'plotly': ['https://cdn.plot.ly/plotly-latest.min']},});if(!window.Plotly) {{require(['plotly'],function(plotly) {window.Plotly=plotly;});}}</script>"
      ],
      "text/vnd.plotly.v1+html": [
       "<script>requirejs.config({paths: { 'plotly': ['https://cdn.plot.ly/plotly-latest.min']},});if(!window.Plotly) {{require(['plotly'],function(plotly) {window.Plotly=plotly;});}}</script>"
      ]
     },
     "metadata": {},
     "output_type": "display_data"
    }
   ],
   "source": [
    "# code from: https://www.kaggle.com/arthurtok/spooky-nlp-and-topic-modelling-tutorial\n",
    "\n",
    "import re\n",
    "import string\n",
    "import base64\n",
    "import numpy as np\n",
    "import pandas as pd\n",
    "import plotly.offline as py\n",
    "py.init_notebook_mode(connected=True)\n",
    "import plotly.graph_objs as go\n",
    "import plotly.tools as tls\n",
    "from collections import Counter\n",
    "from scipy.misc import imread\n",
    "from sklearn.feature_extraction.text import TfidfVectorizer, CountVectorizer\n",
    "from sklearn.decomposition import NMF, LatentDirichletAllocation\n",
    "from matplotlib import pyplot as plt\n",
    "from nltk.corpus import stopwords\n",
    "from nltk.tokenize import word_tokenize, sent_tokenize\n",
    "from wordcloud import WordCloud, STOPWORDS\n",
    "\n",
    "\n",
    "%matplotlib inline\n",
    "# from sqlalchemy import create_engine\n",
    "# import pymysql"
   ]
  },
  {
   "cell_type": "code",
   "execution_count": 76,
   "metadata": {
    "scrolled": false
   },
   "outputs": [
    {
     "data": {
      "text/html": [
       "<div>\n",
       "<style scoped>\n",
       "    .dataframe tbody tr th:only-of-type {\n",
       "        vertical-align: middle;\n",
       "    }\n",
       "\n",
       "    .dataframe tbody tr th {\n",
       "        vertical-align: top;\n",
       "    }\n",
       "\n",
       "    .dataframe thead th {\n",
       "        text-align: right;\n",
       "    }\n",
       "</style>\n",
       "<table border=\"1\" class=\"dataframe\">\n",
       "  <thead>\n",
       "    <tr style=\"text-align: right;\">\n",
       "      <th></th>\n",
       "      <th>Unnamed: 0</th>\n",
       "      <th>name</th>\n",
       "      <th>age</th>\n",
       "      <th>location</th>\n",
       "      <th>profile</th>\n",
       "      <th>id</th>\n",
       "    </tr>\n",
       "  </thead>\n",
       "  <tbody>\n",
       "    <tr>\n",
       "      <th>3454</th>\n",
       "      <td>3454</td>\n",
       "      <td>14880804637768056068</td>\n",
       "      <td>25</td>\n",
       "      <td>Los Angeles, California</td>\n",
       "      <td>1. My self-summary: What's up looking for good...</td>\n",
       "      <td>3455</td>\n",
       "    </tr>\n",
       "    <tr>\n",
       "      <th>3455</th>\n",
       "      <td>3455</td>\n",
       "      <td>17970967172049327033</td>\n",
       "      <td>18</td>\n",
       "      <td>Los Angeles, California</td>\n",
       "      <td>1. My self-summary: Shy But Crazy When You Get...</td>\n",
       "      <td>3456</td>\n",
       "    </tr>\n",
       "    <tr>\n",
       "      <th>3456</th>\n",
       "      <td>3456</td>\n",
       "      <td>7427755961148477906</td>\n",
       "      <td>29</td>\n",
       "      <td>Beverly Hills, California</td>\n",
       "      <td>1. My self-summary: Let’s see how bad you can ...</td>\n",
       "      <td>3457</td>\n",
       "    </tr>\n",
       "    <tr>\n",
       "      <th>3457</th>\n",
       "      <td>3457</td>\n",
       "      <td>peanutslover</td>\n",
       "      <td>28</td>\n",
       "      <td>Reseda, California</td>\n",
       "      <td>1. My self-summary: ..hi\\n2. What I'm doing wi...</td>\n",
       "      <td>3458</td>\n",
       "    </tr>\n",
       "    <tr>\n",
       "      <th>3458</th>\n",
       "      <td>3458</td>\n",
       "      <td>11520734543755277993</td>\n",
       "      <td>21</td>\n",
       "      <td>La Cañada Flintridge, California</td>\n",
       "      <td>1. My self-summary: A down ass girl that is sw...</td>\n",
       "      <td>3459</td>\n",
       "    </tr>\n",
       "  </tbody>\n",
       "</table>\n",
       "</div>"
      ],
      "text/plain": [
       "      Unnamed: 0                  name age                          location  \\\n",
       "3454        3454  14880804637768056068  25           Los Angeles, California   \n",
       "3455        3455  17970967172049327033  18           Los Angeles, California   \n",
       "3456        3456   7427755961148477906  29         Beverly Hills, California   \n",
       "3457        3457          peanutslover  28                Reseda, California   \n",
       "3458        3458  11520734543755277993  21  La Cañada Flintridge, California   \n",
       "\n",
       "                                                profile    id  \n",
       "3454  1. My self-summary: What's up looking for good...  3455  \n",
       "3455  1. My self-summary: Shy But Crazy When You Get...  3456  \n",
       "3456  1. My self-summary: Let’s see how bad you can ...  3457  \n",
       "3457  1. My self-summary: ..hi\\n2. What I'm doing wi...  3458  \n",
       "3458  1. My self-summary: A down ass girl that is sw...  3459  "
      ]
     },
     "execution_count": 76,
     "metadata": {},
     "output_type": "execute_result"
    }
   ],
   "source": [
    "# engine = create_engine(\"mysql+pymysql://[redacted]:[redacted]@[redacted]/[redacted]?host=localhost?port=3306\")\n",
    "# conn = engine.connect()\n",
    "# sql = 'SELECT * from profile'\n",
    "# df = pd.read_sql(sql, conn)\n",
    "\n",
    "df = pd.read_csv('data/OKC_profiles.csv')\n",
    "df.tail(5)"
   ]
  },
  {
   "cell_type": "markdown",
   "metadata": {},
   "source": [
    "# EDA"
   ]
  },
  {
   "cell_type": "code",
   "execution_count": 26,
   "metadata": {
    "scrolled": false
   },
   "outputs": [
    {
     "data": {
      "text/plain": [
       "count    2824.000000\n",
       "mean       22.985482\n",
       "std         3.005038\n",
       "min        18.000000\n",
       "25%        21.000000\n",
       "50%        23.000000\n",
       "75%        25.000000\n",
       "max        30.000000\n",
       "Name: age, dtype: float64"
      ]
     },
     "execution_count": 26,
     "metadata": {},
     "output_type": "execute_result"
    }
   ],
   "source": [
    "def to_int(x):\n",
    "    try: return int(x)\n",
    "    except: return None\n",
    "\n",
    "df['age'].apply(to_int).describe()"
   ]
  },
  {
   "cell_type": "code",
   "execution_count": 27,
   "metadata": {},
   "outputs": [
    {
     "data": {
      "image/png": "[encoded data removed]",
      "text/plain": [
       "<matplotlib.figure.Figure at 0x1a1fd85240>"
      ]
     },
     "metadata": {},
     "output_type": "display_data"
    }
   ],
   "source": [
    "valid_ages = df['age'].apply(to_int).dropna()\n",
    "plt.hist(valid_ages);"
   ]
  },
  {
   "cell_type": "code",
   "execution_count": 66,
   "metadata": {
    "scrolled": false
   },
   "outputs": [
    {
     "data": {
      "text/plain": [
       "['Los Angeles, California',\n",
       " 'Long Beach, California',\n",
       " 'Beverly Hills, California',\n",
       " 'Shanghai, China',\n",
       " 'Whittier, California',\n",
       " 'Northridge, California',\n",
       " 'Pasadena, California',\n",
       " 'North Hollywood, California',\n",
       " 'Torrance, California',\n",
       " 'Downey, California']"
      ]
     },
     "execution_count": 66,
     "metadata": {},
     "output_type": "execute_result"
    }
   ],
   "source": [
    "# top_cities = df['location'].value_counts()[:10]\n",
    "top_cities = [x for x in df['location'].value_counts().keys()[:10]]\n",
    "\n",
    "top_locations_column = df['location'].apply(lambda x: x if x in top_cities else None)\n",
    "# top_locations_column[-10:]\n",
    "\n",
    "top_cities"
   ]
  },
  {
   "cell_type": "code",
   "execution_count": 69,
   "metadata": {},
   "outputs": [
    {
     "data": {
      "application/vnd.plotly.v1+json": {
       "data": [
        {
         "marker": {
          "color": [
           1147,
           134,
           75,
           73,
           61,
           54,
           52,
           50,
           46,
           42
          ],
          "colorscale": "Jet"
         },
         "text": "Count of profiles in location",
         "type": "bar",
         "x": [
          "Los Angeles, California",
          "Long Beach, California",
          "Beverly Hills, California",
          "Shanghai, China",
          "Whittier, California",
          "Northridge, California",
          "Pasadena, California",
          "North Hollywood, California",
          "Torrance, California",
          "Downey, California"
         ],
         "y": [
          1147,
          134,
          75,
          73,
          61,
          54,
          52,
          50,
          46,
          42
         ]
        }
       ],
       "layout": {
        "title": "Top locations distribution"
       }
      },
      "text/html": [
       "<div id=\"f0e09070-00dc-40cb-91c2-b29463f5836f\" style=\"height: 525px; width: 100%;\" class=\"plotly-graph-div\"></div><script type=\"text/javascript\">require([\"plotly\"], function(Plotly) { window.PLOTLYENV=window.PLOTLYENV || {};window.PLOTLYENV.BASE_URL=\"https://plot.ly\";Plotly.newPlot(\"f0e09070-00dc-40cb-91c2-b29463f5836f\", [{\"type\": \"bar\", \"x\": [\"Los Angeles, California\", \"Long Beach, California\", \"Beverly Hills, California\", \"Shanghai, China\", \"Whittier, California\", \"Northridge, California\", \"Pasadena, California\", \"North Hollywood, California\", \"Torrance, California\", \"Downey, California\"], \"y\": [1147, 134, 75, 73, 61, 54, 52, 50, 46, 42], \"marker\": {\"colorscale\": \"Jet\", \"color\": [1147, 134, 75, 73, 61, 54, 52, 50, 46, 42]}, \"text\": \"Count of profiles in location\"}], {\"title\": \"Top locations distribution\"}, {\"showLink\": true, \"linkText\": \"Export to plot.ly\"})});</script>"
      ],
      "text/vnd.plotly.v1+html": [
       "<div id=\"f0e09070-00dc-40cb-91c2-b29463f5836f\" style=\"height: 525px; width: 100%;\" class=\"plotly-graph-div\"></div><script type=\"text/javascript\">require([\"plotly\"], function(Plotly) { window.PLOTLYENV=window.PLOTLYENV || {};window.PLOTLYENV.BASE_URL=\"https://plot.ly\";Plotly.newPlot(\"f0e09070-00dc-40cb-91c2-b29463f5836f\", [{\"type\": \"bar\", \"x\": [\"Los Angeles, California\", \"Long Beach, California\", \"Beverly Hills, California\", \"Shanghai, China\", \"Whittier, California\", \"Northridge, California\", \"Pasadena, California\", \"North Hollywood, California\", \"Torrance, California\", \"Downey, California\"], \"y\": [1147, 134, 75, 73, 61, 54, 52, 50, 46, 42], \"marker\": {\"colorscale\": \"Jet\", \"color\": [1147, 134, 75, 73, 61, 54, 52, 50, 46, 42]}, \"text\": \"Count of profiles in location\"}], {\"title\": \"Top locations distribution\"}, {\"showLink\": true, \"linkText\": \"Export to plot.ly\"})});</script>"
      ]
     },
     "metadata": {},
     "output_type": "display_data"
    }
   ],
   "source": [
    "data = [go.Bar(\n",
    "#             x = top_locations_column.author.map(z).unique(),\n",
    "            x = top_cities,\n",
    "            y = top_locations_column.value_counts().values,\n",
    "            marker= dict(colorscale='Jet',\n",
    "                         color = top_locations_column.value_counts().values\n",
    "                        ),\n",
    "            text='Count of profiles in location'\n",
    "    )]\n",
    "\n",
    "layout = go.Layout(\n",
    "    title='Top locations distribution'\n",
    ")\n",
    "\n",
    "fig = go.Figure(data=data, layout=layout)\n",
    "\n",
    "py.iplot(fig, filename='basic-bar')\n"
   ]
  },
  {
   "cell_type": "markdown",
   "metadata": {},
   "source": [
    "- Let's see what the most common words are in the uncleaned bio descriptions."
   ]
  },
  {
   "cell_type": "code",
   "execution_count": 73,
   "metadata": {},
   "outputs": [
    {
     "data": {
      "application/vnd.plotly.v1+json": {
       "data": [
        {
         "marker": {
          "color": [
           2508,
           2391,
           2352,
           2272,
           2069,
           1746,
           1468,
           1125,
           974,
           893,
           830,
           743,
           735,
           714,
           684,
           605,
           593,
           525,
           512,
           507,
           502,
           498,
           493,
           470,
           450,
           445,
           437,
           435,
           430,
           422,
           404,
           366,
           348,
           347,
           341,
           322,
           305,
           299,
           288,
           287,
           287,
           285,
           285,
           280,
           268,
           265,
           264,
           257,
           252,
           241,
           241,
           240,
           235,
           232,
           226,
           221,
           214,
           208,
           203,
           201,
           200,
           193,
           192,
           187,
           184,
           182,
           175,
           173,
           172,
           170,
           166,
           165,
           164,
           162,
           162,
           154,
           153,
           153,
           150,
           148,
           148,
           147,
           146,
           146,
           145,
           145,
           144,
           138,
           137,
           135,
           135,
           133,
           131,
           127,
           126,
           122,
           122,
           120
          ],
          "colorscale": "Jet"
         },
         "text": "Word counts",
         "type": "bar",
         "x": [
          "1.",
          "to",
          "My",
          "a",
          "self-summary:",
          "I'm",
          "my",
          "the",
          "with",
          "in",
          "of",
          "for",
          "[]",
          "me",
          "love",
          "I’m",
          "2.",
          "you",
          "doing",
          "is",
          "but",
          "What",
          "like",
          "am",
          "????",
          "good",
          "on",
          "have",
          "life:",
          "at",
          "really",
          "so",
          "just",
          "be",
          "3.",
          "that",
          "not",
          "people",
          "time",
          "new",
          "about",
          "out",
          "looking",
          "things",
          "i",
          "if",
          "who",
          "as"
         ],
         "y": [
          2508,
          2391,
          2352,
          2272,
          2069,
          1746,
          1468,
          1125,
          974,
          893,
          830,
          743,
          735,
          714,
          684,
          605,
          593,
          525,
          512,
          507,
          502,
          498,
          493,
          470,
          450,
          445,
          437,
          435,
          430,
          422,
          404,
          366,
          348,
          347,
          341,
          322,
          305,
          299,
          288,
          287,
          287,
          285,
          285,
          280,
          268,
          265,
          264,
          257
         ]
        }
       ],
       "layout": {
        "title": "Top 50 (Uncleaned) Word frequencies in the training dataset"
       }
      },
      "text/html": [
       "<div id=\"f6b39d94-0d2d-43e6-aa10-2581c56fc73b\" style=\"height: 525px; width: 100%;\" class=\"plotly-graph-div\"></div><script type=\"text/javascript\">require([\"plotly\"], function(Plotly) { window.PLOTLYENV=window.PLOTLYENV || {};window.PLOTLYENV.BASE_URL=\"https://plot.ly\";Plotly.newPlot(\"f6b39d94-0d2d-43e6-aa10-2581c56fc73b\", [{\"type\": \"bar\", \"x\": [\"1.\", \"to\", \"My\", \"a\", \"self-summary:\", \"I'm\", \"my\", \"the\", \"with\", \"in\", \"of\", \"for\", \"[]\", \"me\", \"love\", \"I\\u2019m\", \"2.\", \"you\", \"doing\", \"is\", \"but\", \"What\", \"like\", \"am\", \"????\", \"good\", \"on\", \"have\", \"life:\", \"at\", \"really\", \"so\", \"just\", \"be\", \"3.\", \"that\", \"not\", \"people\", \"time\", \"new\", \"about\", \"out\", \"looking\", \"things\", \"i\", \"if\", \"who\", \"as\"], \"y\": [2508, 2391, 2352, 2272, 2069, 1746, 1468, 1125, 974, 893, 830, 743, 735, 714, 684, 605, 593, 525, 512, 507, 502, 498, 493, 470, 450, 445, 437, 435, 430, 422, 404, 366, 348, 347, 341, 322, 305, 299, 288, 287, 287, 285, 285, 280, 268, 265, 264, 257], \"marker\": {\"colorscale\": \"Jet\", \"color\": [2508, 2391, 2352, 2272, 2069, 1746, 1468, 1125, 974, 893, 830, 743, 735, 714, 684, 605, 593, 525, 512, 507, 502, 498, 493, 470, 450, 445, 437, 435, 430, 422, 404, 366, 348, 347, 341, 322, 305, 299, 288, 287, 287, 285, 285, 280, 268, 265, 264, 257, 252, 241, 241, 240, 235, 232, 226, 221, 214, 208, 203, 201, 200, 193, 192, 187, 184, 182, 175, 173, 172, 170, 166, 165, 164, 162, 162, 154, 153, 153, 150, 148, 148, 147, 146, 146, 145, 145, 144, 138, 137, 135, 135, 133, 131, 127, 126, 122, 122, 120]}, \"text\": \"Word counts\"}], {\"title\": \"Top 50 (Uncleaned) Word frequencies in the training dataset\"}, {\"showLink\": true, \"linkText\": \"Export to plot.ly\"})});</script>"
      ],
      "text/vnd.plotly.v1+html": [
       "<div id=\"f6b39d94-0d2d-43e6-aa10-2581c56fc73b\" style=\"height: 525px; width: 100%;\" class=\"plotly-graph-div\"></div><script type=\"text/javascript\">require([\"plotly\"], function(Plotly) { window.PLOTLYENV=window.PLOTLYENV || {};window.PLOTLYENV.BASE_URL=\"https://plot.ly\";Plotly.newPlot(\"f6b39d94-0d2d-43e6-aa10-2581c56fc73b\", [{\"type\": \"bar\", \"x\": [\"1.\", \"to\", \"My\", \"a\", \"self-summary:\", \"I'm\", \"my\", \"the\", \"with\", \"in\", \"of\", \"for\", \"[]\", \"me\", \"love\", \"I\\u2019m\", \"2.\", \"you\", \"doing\", \"is\", \"but\", \"What\", \"like\", \"am\", \"????\", \"good\", \"on\", \"have\", \"life:\", \"at\", \"really\", \"so\", \"just\", \"be\", \"3.\", \"that\", \"not\", \"people\", \"time\", \"new\", \"about\", \"out\", \"looking\", \"things\", \"i\", \"if\", \"who\", \"as\"], \"y\": [2508, 2391, 2352, 2272, 2069, 1746, 1468, 1125, 974, 893, 830, 743, 735, 714, 684, 605, 593, 525, 512, 507, 502, 498, 493, 470, 450, 445, 437, 435, 430, 422, 404, 366, 348, 347, 341, 322, 305, 299, 288, 287, 287, 285, 285, 280, 268, 265, 264, 257], \"marker\": {\"colorscale\": \"Jet\", \"color\": [2508, 2391, 2352, 2272, 2069, 1746, 1468, 1125, 974, 893, 830, 743, 735, 714, 684, 605, 593, 525, 512, 507, 502, 498, 493, 470, 450, 445, 437, 435, 430, 422, 404, 366, 348, 347, 341, 322, 305, 299, 288, 287, 287, 285, 285, 280, 268, 265, 264, 257, 252, 241, 241, 240, 235, 232, 226, 221, 214, 208, 203, 201, 200, 193, 192, 187, 184, 182, 175, 173, 172, 170, 166, 165, 164, 162, 162, 154, 153, 153, 150, 148, 148, 147, 146, 146, 145, 145, 144, 138, 137, 135, 135, 133, 131, 127, 126, 122, 122, 120]}, \"text\": \"Word counts\"}], {\"title\": \"Top 50 (Uncleaned) Word frequencies in the training dataset\"}, {\"showLink\": true, \"linkText\": \"Export to plot.ly\"})});</script>"
      ]
     },
     "metadata": {},
     "output_type": "display_data"
    }
   ],
   "source": [
    "all_words = df['profile'].str.split(expand=True).unstack().value_counts()\n",
    "data = [go.Bar(\n",
    "            x = all_words.index.values[2:50],\n",
    "            y = all_words.values[2:50],\n",
    "            marker= dict(colorscale='Jet',\n",
    "                         color = all_words.values[2:100]\n",
    "                        ),\n",
    "            text='Word counts'\n",
    "    )]\n",
    "\n",
    "layout = go.Layout(\n",
    "    title='Top 50 (Uncleaned) Word frequencies in the training dataset'\n",
    ")\n",
    "\n",
    "fig = go.Figure(data=data, layout=layout)\n",
    "\n",
    "py.iplot(fig, filename='basic-bar')"
   ]
  },
  {
   "cell_type": "markdown",
   "metadata": {},
   "source": [
    "- There are a lot of junk to remove."
   ]
  },
  {
   "cell_type": "markdown",
   "metadata": {},
   "source": [
    "# Tokenize and remove stop words"
   ]
  },
  {
   "cell_type": "code",
   "execution_count": 93,
   "metadata": {
    "scrolled": true
   },
   "outputs": [
    {
     "data": {
      "text/plain": [
       "179"
      ]
     },
     "execution_count": 93,
     "metadata": {},
     "output_type": "execute_result"
    }
   ],
   "source": [
    "len(stopwords.words('english'))"
   ]
  },
  {
   "cell_type": "code",
   "execution_count": 82,
   "metadata": {},
   "outputs": [],
   "source": [
    "WORDS_TO_IGNORE = []\n",
    "\n",
    "stop = set(stopwords.words('english'))\n",
    "stop_ignore = stop.union(set(WORDS_TO_IGNORE))\n",
    "# ps = PorterStemmer()\n",
    "\n",
    "def tokenize(text):\n",
    "    \"\"\"\n",
    "    sent_tokenize(): segment text into sentences\n",
    "    word_tokenize(): break sentences into words\n",
    "    \"\"\"\n",
    "    try: \n",
    "        regex = re.compile('[' +re.escape(string.punctuation) + '0-9\\\\r\\\\t\\\\n]')\n",
    "        text = regex.sub(\" \", text) # remove punctuation\n",
    "        \n",
    "        tokens_ = [word_tokenize(s) for s in sent_tokenize(text)]\n",
    "        tokens = []\n",
    "        for token_by_sent in tokens_:\n",
    "            tokens += token_by_sent\n",
    "        tokens = list(filter(lambda t: t.lower() not in stop_ignore, tokens))\n",
    "        filtered_tokens = [w for w in tokens if re.search('[a-zA-Z]', w)]\n",
    "        filtered_tokens = [w.lower() for w in filtered_tokens if len(w)>=3]\n",
    "        \n",
    "        return filtered_tokens\n",
    "            \n",
    "    except TypeError as e: print(text,e)"
   ]
  },
  {
   "cell_type": "code",
   "execution_count": 91,
   "metadata": {
    "scrolled": true
   },
   "outputs": [
    {
     "name": "stdout",
     "output_type": "stream",
     "text": [
      "profile: 1. My self-summary: A down ass girl that is sweet and fun to be with\n",
      "\n",
      "tokens: ['self', 'summary', 'ass', 'girl', 'sweet', 'fun']\n",
      "\n"
     ]
    }
   ],
   "source": [
    "# apply the tokenizer into the profile column\n",
    "df['tokens'] = df['profile'].map(tokenize)\n",
    "df.reset_index(drop=True, inplace=True)\n",
    "\n",
    "for profile, tokens in zip(df['profile'].tail(1), df['tokens'].tail(1)):\n",
    "    print('profile:', profile)\n",
    "    print('tokens:', tokens)\n",
    "    print()"
   ]
  },
  {
   "cell_type": "markdown",
   "metadata": {},
   "source": [
    "# Visualize common words by location\n",
    "- Let's see if there are patterns in word frequencies by location.  For instance, do women in Beverly Hills use the word 'money' more?"
   ]
  },
  {
   "cell_type": "code",
   "execution_count": 99,
   "metadata": {},
   "outputs": [],
   "source": [
    "LA = df[df.location==\"Los Angeles, California\"][\"tokens\"].values\n",
    "LB = df[df.location==\"Long Beach, California\"][\"tokens\"].values\n",
    "BH = df[df.location==\"Beverly Hills, California\"][\"tokens\"].values"
   ]
  },
  {
   "cell_type": "code",
   "execution_count": 103,
   "metadata": {},
   "outputs": [],
   "source": [
    "import base64\n",
    "\n",
    "with open(\"data/cupid_silhouette.jpg\", \"rb\") as image_file:\n",
    "    encoded_string = base64.b64encode(image_file.read())\n",
    "    \n",
    "import codecs\n",
    "# Generate the Mask for EAP\n",
    "f1 = open(\"eap.jpg\", \"wb\")\n",
    "f1.write(codecs.decode(eap_64,'base64'))\n",
    "f1.close()\n",
    "img1 = imread(\"eap.png\")\n",
    "# img = img.resize((980,1080))\n",
    "hcmask = img1\n",
    "\n",
    "# f2 = open(\"mws.png\", \"wb\")\n",
    "# f2.write(codecs.decode(mws_64,'base64'))\n",
    "# f2.close()\n",
    "# img2 = imread(\"mws.png\")\n",
    "# hcmask2 = img2\n",
    "\n",
    "# f3 = open(\"hpl.png\", \"wb\")\n",
    "# f3.write(codecs.decode(hpl_64,'base64'))\n",
    "# f3.close()\n",
    "# img3 = imread(\"hpl.png\")\n",
    "# hcmask3 = img3;"
   ]
  },
  {
   "cell_type": "code",
   "execution_count": null,
   "metadata": {},
   "outputs": [],
   "source": []
  }
 ],
 "metadata": {
  "kernelspec": {
   "display_name": "Python 3",
   "language": "python",
   "name": "python3"
  },
  "language_info": {
   "codemirror_mode": {
    "name": "ipython",
    "version": 3
   },
   "file_extension": ".py",
   "mimetype": "text/x-python",
   "name": "python",
   "nbconvert_exporter": "python",
   "pygments_lexer": "ipython3",
   "version": "3.6.4"
  }
 },
 "nbformat": 4,
 "nbformat_minor": 2
}
