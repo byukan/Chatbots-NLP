{
 "cells": [
  {
   "cell_type": "markdown",
   "metadata": {},
   "source": [
    "https://hub.docker.com/r/paperspace/fastai/tags?page=1  \n",
    "https://github.com/Paperspace/fastai-docker/tree/master/fastai-v3  \n",
    "https://nji-syd.github.io/2018/03/26/up-and-running-with-fast-ai-and-docker/  \n",
    "https://github.com/nji-syd/fastai-docker  \n",
    "~~https://dufferdev.wordpress.com/2019/01/10/setting-docker-for-fast-ai/~~\n",
    "\n",
    "- The advantage of docker over conda environments is portability.  While conda envs achieve isolation, docker containers also allow portability.\n",
    "\n",
    "## Pull the fast-ai docker from docker hub\n",
    "```console\n",
    "docker pull paperspace/fastai:1.0-CUDA9.2-base-3.0-v1.0.6\n",
    "```\n",
    "\n",
    "## Set up docker environment"
   ]
  },
  {
   "cell_type": "code",
   "execution_count": null,
   "metadata": {},
   "outputs": [],
   "source": []
  }
 ],
 "metadata": {
  "kernelspec": {
   "display_name": "Python 3",
   "language": "python",
   "name": "python3"
  },
  "language_info": {
   "codemirror_mode": {
    "name": "ipython",
    "version": 3
   },
   "file_extension": ".py",
   "mimetype": "text/x-python",
   "name": "python",
   "nbconvert_exporter": "python",
   "pygments_lexer": "ipython3",
   "version": "3.7.3"
  }
 },
 "nbformat": 4,
 "nbformat_minor": 2
}
