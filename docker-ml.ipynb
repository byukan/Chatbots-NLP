{
 "cells": [
  {
   "cell_type": "markdown",
   "metadata": {},
   "source": [
    "https://hub.docker.com/r/paperspace/fastai/tags?page=1  \n",
    "https://github.com/Paperspace/fastai-docker/tree/master/fastai-v3  \n",
    "https://nji-syd.github.io/2018/03/26/up-and-running-with-fast-ai-and-docker/  \n",
    "https://github.com/nji-syd/fastai-docker  \n",
    "~~https://dufferdev.wordpress.com/2019/01/10/setting-docker-for-fast-ai/~~\n",
    "\n",
    "- The advantage of docker over conda environments is portability.  While conda envs achieve isolation, docker containers also allow portability.\n",
    "\n",
    "## Pull the fast-ai docker from docker hub\n",
    "```console\n",
    "docker pull paperspace/fastai:1.0-CUDA9.2-base-3.0-v1.0.6\n",
    "```\n",
    "\n",
    "## Set up docker environment"
   ]
  },
  {
   "cell_type": "markdown",
   "metadata": {},
   "source": [
    "## Setting up a Flask Project"
   ]
  },
  {
   "cell_type": "code",
   "execution_count": null,
   "metadata": {},
   "outputs": [
    {
     "name": "stdout",
     "output_type": "stream",
     "text": [
      " * Serving Flask app \"__main__\" (lazy loading)\n",
      " * Environment: production\n",
      "   WARNING: This is a development server. Do not use it in a production deployment.\n",
      "   Use a production WSGI server instead.\n",
      " * Debug mode: off\n"
     ]
    },
    {
     "name": "stderr",
     "output_type": "stream",
     "text": [
      " * Running on http://127.0.0.1:5000/ (Press CTRL+C to quit)\n",
      "127.0.0.1 - - [01/Nov/2019 15:46:31] \"GET / HTTP/1.1\" 200 -\n"
     ]
    }
   ],
   "source": [
    "#!/usr/bin/env python3\n",
    "# -*- coding: utf-8 -*-\n",
    "\"\"\"\n",
    ":date: 11/1/19\n",
    ":author: Brant Yukan\n",
    "\"\"\"\n",
    "\n",
    "from flask import Flask\n",
    "\n",
    "app = Flask(__name__)\n",
    "\n",
    "@app.route('/')\n",
    "def add():\n",
    "    a = 10\n",
    "    b = 20\n",
    "    return str(a + b)\n",
    "\n",
    "if __name__ == '__main__':\n",
    "    app.run()"
   ]
  }
 ],
 "metadata": {
  "kernelspec": {
   "display_name": "Python 3",
   "language": "python",
   "name": "python3"
  },
  "language_info": {
   "codemirror_mode": {
    "name": "ipython",
    "version": 3
   },
   "file_extension": ".py",
   "mimetype": "text/x-python",
   "name": "python",
   "nbconvert_exporter": "python",
   "pygments_lexer": "ipython3",
   "version": "3.7.3"
  }
 },
 "nbformat": 4,
 "nbformat_minor": 2
}
