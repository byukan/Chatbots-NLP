{
 "cells": [
  {
   "cell_type": "markdown",
   "metadata": {},
   "source": [
    "## Pull the fast-ai docker from docker hub\n",
    "\n",
    "https://hub.docker.com/r/paperspace/fastai/tags?page=1  \n",
    "https://github.com/Paperspace/fastai-docker/tree/master/fastai-v3  \n",
    "https://dufferdev.wordpress.com/2019/01/10/setting-docker-for-fast-ai/\n",
    "\n",
    "```console\n",
    "docker pull paperspace/fastai:1.0-CUDA9.2-base-3.0-v1.0.6\n",
    "```"
   ]
  },
  {
   "cell_type": "code",
   "execution_count": null,
   "metadata": {},
   "outputs": [],
   "source": []
  }
 ],
 "metadata": {
  "kernelspec": {
   "display_name": "Python 3",
   "language": "python",
   "name": "python3"
  },
  "language_info": {
   "codemirror_mode": {
    "name": "ipython",
    "version": 3
   },
   "file_extension": ".py",
   "mimetype": "text/x-python",
   "name": "python",
   "nbconvert_exporter": "python",
   "pygments_lexer": "ipython3",
   "version": "3.7.3"
  }
 },
 "nbformat": 4,
 "nbformat_minor": 2
}
