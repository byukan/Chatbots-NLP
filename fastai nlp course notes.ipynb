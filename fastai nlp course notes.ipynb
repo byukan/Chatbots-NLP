{
 "cells": [
  {
   "cell_type": "markdown",
   "metadata": {},
   "source": [
    "[Fastai NLP Course](https://www.fast.ai/2019/07/08/fastai-nlp/)\n",
    "> Applications covered include :\n",
    "- topic modeling, classfication (identifying whether the sentiment of a review is postive or negative), language modeling, and translation. \n",
    "- regex, SVD, naive bayes, tokenization\n",
    "- recent neural network approaches (including RNNs, seq2seq, attention, and the transformer architecture)\n",
    "\n",
    "GPT-2, GPT-3  \n",
    "https://avoidboringpeople.substack.com/p/doctor-gpt-3"
   ]
  },
  {
   "cell_type": "code",
   "execution_count": null,
   "metadata": {},
   "outputs": [],
   "source": []
  }
 ],
 "metadata": {
  "kernelspec": {
   "display_name": "Python 3",
   "language": "python",
   "name": "python3"
  },
  "language_info": {
   "codemirror_mode": {
    "name": "ipython",
    "version": 3
   },
   "file_extension": ".py",
   "mimetype": "text/x-python",
   "name": "python",
   "nbconvert_exporter": "python",
   "pygments_lexer": "ipython3",
   "version": "3.7.6"
  }
 },
 "nbformat": 4,
 "nbformat_minor": 4
}
